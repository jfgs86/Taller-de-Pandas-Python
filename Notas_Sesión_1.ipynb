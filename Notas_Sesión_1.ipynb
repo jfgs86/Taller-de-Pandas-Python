{
  "nbformat": 4,
  "nbformat_minor": 0,
  "metadata": {
    "colab": {
      "name": "Notas Sesión 1.ipynb",
      "provenance": [],
      "collapsed_sections": [],
      "include_colab_link": true
    },
    "kernelspec": {
      "name": "python3",
      "display_name": "Python 3"
    }
  },
  "cells": [
    {
      "cell_type": "markdown",
      "metadata": {
        "id": "view-in-github",
        "colab_type": "text"
      },
      "source": [
        "<a href=\"https://colab.research.google.com/github/jfgs86/Taller-de-Pandas-Python/blob/master/Notas_Sesi%C3%B3n_1.ipynb\" target=\"_parent\"><img src=\"https://colab.research.google.com/assets/colab-badge.svg\" alt=\"Open In Colab\"/></a>"
      ]
    },
    {
      "cell_type": "markdown",
      "metadata": {
        "id": "TDPfIctmnq_j",
        "colab_type": "text"
      },
      "source": [
        "# *Grupo de Estudio en Sistemas Complejos, Simulación Computacional y Dinámica Social  de la Maestría en Ciencias de la Complejidad UACM*\n",
        "\n",
        "# **TALLER DE PANDAS PYTHON**\n",
        "## Imparte Lic. Juan Francisco Gracia Sercado. Estudiante de la Maestría de Ciencias de la Complejidad. UACM\n",
        "<img src=https://aprendeconalf.es/python/manual/img/pandas-logo.png width=\"800\">\n",
        "\n",
        "\n",
        "# **NOTAS SOBRE LA SESIÓN 1**\n",
        "\n",
        "\n",
        "\n"
      ]
    },
    {
      "cell_type": "code",
      "metadata": {
        "id": "ipwaG8z40_4Y",
        "colab_type": "code",
        "colab": {}
      },
      "source": [
        ""
      ],
      "execution_count": null,
      "outputs": []
    },
    {
      "cell_type": "code",
      "metadata": {
        "id": "c3tSOHdXS2iC",
        "colab_type": "code",
        "colab": {}
      },
      "source": [
        ""
      ],
      "execution_count": null,
      "outputs": []
    },
    {
      "cell_type": "markdown",
      "metadata": {
        "id": "hBok1NqsS8bj",
        "colab_type": "text"
      },
      "source": [
        ""
      ]
    },
    {
      "cell_type": "code",
      "metadata": {
        "id": "y0-tPRpsTI3E",
        "colab_type": "code",
        "colab": {}
      },
      "source": [
        ""
      ],
      "execution_count": null,
      "outputs": []
    },
    {
      "cell_type": "code",
      "metadata": {
        "id": "WnG_2TEeUsBK",
        "colab_type": "code",
        "colab": {}
      },
      "source": [
        ""
      ],
      "execution_count": null,
      "outputs": []
    },
    {
      "cell_type": "code",
      "metadata": {
        "id": "bKSzLfDqU3S0",
        "colab_type": "code",
        "colab": {
          "base_uri": "https://localhost:8080/",
          "height": 562
        },
        "outputId": "a627e042-c418-4ac0-916f-f1c6c9458a64"
      },
      "source": [
        "from google.colab import drive\n",
        "drive.mount('/content/drive')"
      ],
      "execution_count": null,
      "outputs": [
        {
          "output_type": "error",
          "ename": "KeyboardInterrupt",
          "evalue": "ignored",
          "traceback": [
            "\u001b[0;31m---------------------------------------------------------------------------\u001b[0m",
            "\u001b[0;31mKeyboardInterrupt\u001b[0m                         Traceback (most recent call last)",
            "\u001b[0;32m/usr/local/lib/python3.6/dist-packages/ipykernel/kernelbase.py\u001b[0m in \u001b[0;36m_input_request\u001b[0;34m(self, prompt, ident, parent, password)\u001b[0m\n\u001b[1;32m    728\u001b[0m             \u001b[0;32mtry\u001b[0m\u001b[0;34m:\u001b[0m\u001b[0;34m\u001b[0m\u001b[0;34m\u001b[0m\u001b[0m\n\u001b[0;32m--> 729\u001b[0;31m                 \u001b[0mident\u001b[0m\u001b[0;34m,\u001b[0m \u001b[0mreply\u001b[0m \u001b[0;34m=\u001b[0m \u001b[0mself\u001b[0m\u001b[0;34m.\u001b[0m\u001b[0msession\u001b[0m\u001b[0;34m.\u001b[0m\u001b[0mrecv\u001b[0m\u001b[0;34m(\u001b[0m\u001b[0mself\u001b[0m\u001b[0;34m.\u001b[0m\u001b[0mstdin_socket\u001b[0m\u001b[0;34m,\u001b[0m \u001b[0;36m0\u001b[0m\u001b[0;34m)\u001b[0m\u001b[0;34m\u001b[0m\u001b[0;34m\u001b[0m\u001b[0m\n\u001b[0m\u001b[1;32m    730\u001b[0m             \u001b[0;32mexcept\u001b[0m \u001b[0mException\u001b[0m\u001b[0;34m:\u001b[0m\u001b[0;34m\u001b[0m\u001b[0;34m\u001b[0m\u001b[0m\n",
            "\u001b[0;32m/usr/local/lib/python3.6/dist-packages/jupyter_client/session.py\u001b[0m in \u001b[0;36mrecv\u001b[0;34m(self, socket, mode, content, copy)\u001b[0m\n\u001b[1;32m    802\u001b[0m         \u001b[0;32mtry\u001b[0m\u001b[0;34m:\u001b[0m\u001b[0;34m\u001b[0m\u001b[0;34m\u001b[0m\u001b[0m\n\u001b[0;32m--> 803\u001b[0;31m             \u001b[0mmsg_list\u001b[0m \u001b[0;34m=\u001b[0m \u001b[0msocket\u001b[0m\u001b[0;34m.\u001b[0m\u001b[0mrecv_multipart\u001b[0m\u001b[0;34m(\u001b[0m\u001b[0mmode\u001b[0m\u001b[0;34m,\u001b[0m \u001b[0mcopy\u001b[0m\u001b[0;34m=\u001b[0m\u001b[0mcopy\u001b[0m\u001b[0;34m)\u001b[0m\u001b[0;34m\u001b[0m\u001b[0;34m\u001b[0m\u001b[0m\n\u001b[0m\u001b[1;32m    804\u001b[0m         \u001b[0;32mexcept\u001b[0m \u001b[0mzmq\u001b[0m\u001b[0;34m.\u001b[0m\u001b[0mZMQError\u001b[0m \u001b[0;32mas\u001b[0m \u001b[0me\u001b[0m\u001b[0;34m:\u001b[0m\u001b[0;34m\u001b[0m\u001b[0;34m\u001b[0m\u001b[0m\n",
            "\u001b[0;32m/usr/local/lib/python3.6/dist-packages/zmq/sugar/socket.py\u001b[0m in \u001b[0;36mrecv_multipart\u001b[0;34m(self, flags, copy, track)\u001b[0m\n\u001b[1;32m    474\u001b[0m         \"\"\"\n\u001b[0;32m--> 475\u001b[0;31m         \u001b[0mparts\u001b[0m \u001b[0;34m=\u001b[0m \u001b[0;34m[\u001b[0m\u001b[0mself\u001b[0m\u001b[0;34m.\u001b[0m\u001b[0mrecv\u001b[0m\u001b[0;34m(\u001b[0m\u001b[0mflags\u001b[0m\u001b[0;34m,\u001b[0m \u001b[0mcopy\u001b[0m\u001b[0;34m=\u001b[0m\u001b[0mcopy\u001b[0m\u001b[0;34m,\u001b[0m \u001b[0mtrack\u001b[0m\u001b[0;34m=\u001b[0m\u001b[0mtrack\u001b[0m\u001b[0;34m)\u001b[0m\u001b[0;34m]\u001b[0m\u001b[0;34m\u001b[0m\u001b[0;34m\u001b[0m\u001b[0m\n\u001b[0m\u001b[1;32m    476\u001b[0m         \u001b[0;31m# have first part already, only loop while more to receive\u001b[0m\u001b[0;34m\u001b[0m\u001b[0;34m\u001b[0m\u001b[0;34m\u001b[0m\u001b[0m\n",
            "\u001b[0;32mzmq/backend/cython/socket.pyx\u001b[0m in \u001b[0;36mzmq.backend.cython.socket.Socket.recv\u001b[0;34m()\u001b[0m\n",
            "\u001b[0;32mzmq/backend/cython/socket.pyx\u001b[0m in \u001b[0;36mzmq.backend.cython.socket.Socket.recv\u001b[0;34m()\u001b[0m\n",
            "\u001b[0;32mzmq/backend/cython/socket.pyx\u001b[0m in \u001b[0;36mzmq.backend.cython.socket._recv_copy\u001b[0;34m()\u001b[0m\n",
            "\u001b[0;32m/usr/local/lib/python3.6/dist-packages/zmq/backend/cython/checkrc.pxd\u001b[0m in \u001b[0;36mzmq.backend.cython.checkrc._check_rc\u001b[0;34m()\u001b[0m\n",
            "\u001b[0;31mKeyboardInterrupt\u001b[0m: ",
            "\nDuring handling of the above exception, another exception occurred:\n",
            "\u001b[0;31mKeyboardInterrupt\u001b[0m                         Traceback (most recent call last)",
            "\u001b[0;32m<ipython-input-3-d5df0069828e>\u001b[0m in \u001b[0;36m<module>\u001b[0;34m()\u001b[0m\n\u001b[1;32m      1\u001b[0m \u001b[0;32mfrom\u001b[0m \u001b[0mgoogle\u001b[0m\u001b[0;34m.\u001b[0m\u001b[0mcolab\u001b[0m \u001b[0;32mimport\u001b[0m \u001b[0mdrive\u001b[0m\u001b[0;34m\u001b[0m\u001b[0;34m\u001b[0m\u001b[0m\n\u001b[0;32m----> 2\u001b[0;31m \u001b[0mdrive\u001b[0m\u001b[0;34m.\u001b[0m\u001b[0mmount\u001b[0m\u001b[0;34m(\u001b[0m\u001b[0;34m'/content/drive'\u001b[0m\u001b[0;34m)\u001b[0m\u001b[0;34m\u001b[0m\u001b[0;34m\u001b[0m\u001b[0m\n\u001b[0m",
            "\u001b[0;32m/usr/local/lib/python3.6/dist-packages/google/colab/drive.py\u001b[0m in \u001b[0;36mmount\u001b[0;34m(mountpoint, force_remount, timeout_ms, use_metadata_server)\u001b[0m\n\u001b[1;32m    240\u001b[0m       \u001b[0mauth_prompt\u001b[0m \u001b[0;34m=\u001b[0m \u001b[0md\u001b[0m\u001b[0;34m.\u001b[0m\u001b[0mmatch\u001b[0m\u001b[0;34m.\u001b[0m\u001b[0mgroup\u001b[0m\u001b[0;34m(\u001b[0m\u001b[0;36m1\u001b[0m\u001b[0;34m)\u001b[0m \u001b[0;34m+\u001b[0m \u001b[0;34m'\\nEnter your authorization code:\\n'\u001b[0m\u001b[0;34m\u001b[0m\u001b[0;34m\u001b[0m\u001b[0m\n\u001b[1;32m    241\u001b[0m       \u001b[0;32mwith\u001b[0m \u001b[0mopen\u001b[0m\u001b[0;34m(\u001b[0m\u001b[0mfifo\u001b[0m\u001b[0;34m,\u001b[0m \u001b[0;34m'w'\u001b[0m\u001b[0;34m)\u001b[0m \u001b[0;32mas\u001b[0m \u001b[0mfifo_file\u001b[0m\u001b[0;34m:\u001b[0m\u001b[0;34m\u001b[0m\u001b[0;34m\u001b[0m\u001b[0m\n\u001b[0;32m--> 242\u001b[0;31m         \u001b[0mfifo_file\u001b[0m\u001b[0;34m.\u001b[0m\u001b[0mwrite\u001b[0m\u001b[0;34m(\u001b[0m\u001b[0m_getpass\u001b[0m\u001b[0;34m.\u001b[0m\u001b[0mgetpass\u001b[0m\u001b[0;34m(\u001b[0m\u001b[0mauth_prompt\u001b[0m\u001b[0;34m)\u001b[0m \u001b[0;34m+\u001b[0m \u001b[0;34m'\\n'\u001b[0m\u001b[0;34m)\u001b[0m\u001b[0;34m\u001b[0m\u001b[0;34m\u001b[0m\u001b[0m\n\u001b[0m\u001b[1;32m    243\u001b[0m       \u001b[0mwrote_to_fifo\u001b[0m \u001b[0;34m=\u001b[0m \u001b[0;32mTrue\u001b[0m\u001b[0;34m\u001b[0m\u001b[0;34m\u001b[0m\u001b[0m\n\u001b[1;32m    244\u001b[0m   \u001b[0;32mif\u001b[0m \u001b[0;32mnot\u001b[0m \u001b[0mwrote_to_fifo\u001b[0m\u001b[0;34m:\u001b[0m\u001b[0;34m\u001b[0m\u001b[0;34m\u001b[0m\u001b[0m\n",
            "\u001b[0;32m/usr/local/lib/python3.6/dist-packages/ipykernel/kernelbase.py\u001b[0m in \u001b[0;36mgetpass\u001b[0;34m(self, prompt, stream)\u001b[0m\n\u001b[1;32m    685\u001b[0m             \u001b[0mself\u001b[0m\u001b[0;34m.\u001b[0m\u001b[0m_parent_ident\u001b[0m\u001b[0;34m,\u001b[0m\u001b[0;34m\u001b[0m\u001b[0;34m\u001b[0m\u001b[0m\n\u001b[1;32m    686\u001b[0m             \u001b[0mself\u001b[0m\u001b[0;34m.\u001b[0m\u001b[0m_parent_header\u001b[0m\u001b[0;34m,\u001b[0m\u001b[0;34m\u001b[0m\u001b[0;34m\u001b[0m\u001b[0m\n\u001b[0;32m--> 687\u001b[0;31m             \u001b[0mpassword\u001b[0m\u001b[0;34m=\u001b[0m\u001b[0;32mTrue\u001b[0m\u001b[0;34m,\u001b[0m\u001b[0;34m\u001b[0m\u001b[0;34m\u001b[0m\u001b[0m\n\u001b[0m\u001b[1;32m    688\u001b[0m         )\n\u001b[1;32m    689\u001b[0m \u001b[0;34m\u001b[0m\u001b[0m\n",
            "\u001b[0;32m/usr/local/lib/python3.6/dist-packages/ipykernel/kernelbase.py\u001b[0m in \u001b[0;36m_input_request\u001b[0;34m(self, prompt, ident, parent, password)\u001b[0m\n\u001b[1;32m    732\u001b[0m             \u001b[0;32mexcept\u001b[0m \u001b[0mKeyboardInterrupt\u001b[0m\u001b[0;34m:\u001b[0m\u001b[0;34m\u001b[0m\u001b[0;34m\u001b[0m\u001b[0m\n\u001b[1;32m    733\u001b[0m                 \u001b[0;31m# re-raise KeyboardInterrupt, to truncate traceback\u001b[0m\u001b[0;34m\u001b[0m\u001b[0;34m\u001b[0m\u001b[0;34m\u001b[0m\u001b[0m\n\u001b[0;32m--> 734\u001b[0;31m                 \u001b[0;32mraise\u001b[0m \u001b[0mKeyboardInterrupt\u001b[0m\u001b[0;34m\u001b[0m\u001b[0;34m\u001b[0m\u001b[0m\n\u001b[0m\u001b[1;32m    735\u001b[0m             \u001b[0;32melse\u001b[0m\u001b[0;34m:\u001b[0m\u001b[0;34m\u001b[0m\u001b[0;34m\u001b[0m\u001b[0m\n\u001b[1;32m    736\u001b[0m                 \u001b[0;32mbreak\u001b[0m\u001b[0;34m\u001b[0m\u001b[0;34m\u001b[0m\u001b[0m\n",
            "\u001b[0;31mKeyboardInterrupt\u001b[0m: "
          ]
        }
      ]
    },
    {
      "cell_type": "markdown",
      "metadata": {
        "id": "TXU_k3JmtByC",
        "colab_type": "text"
      },
      "source": [
        ""
      ]
    },
    {
      "cell_type": "code",
      "metadata": {
        "id": "neRPyMnNtFFr",
        "colab_type": "code",
        "colab": {}
      },
      "source": [
        ""
      ],
      "execution_count": null,
      "outputs": []
    },
    {
      "cell_type": "markdown",
      "metadata": {
        "id": "WC4XtfU_sued",
        "colab_type": "text"
      },
      "source": [
        ""
      ]
    },
    {
      "cell_type": "code",
      "metadata": {
        "id": "iiPkT8Nrsx3F",
        "colab_type": "code",
        "colab": {}
      },
      "source": [
        ""
      ],
      "execution_count": null,
      "outputs": []
    },
    {
      "cell_type": "code",
      "metadata": {
        "id": "wk9_exALVaKO",
        "colab_type": "code",
        "colab": {}
      },
      "source": [
        ""
      ],
      "execution_count": null,
      "outputs": []
    },
    {
      "cell_type": "markdown",
      "metadata": {
        "id": "enAu7ZTfoEUn",
        "colab_type": "text"
      },
      "source": [
        "## 1.- Comprender que es un Data Frame\n",
        "El data frame (marco de datos) es un cojunto de datos que se asemeja a una matriz bidimensional, es decir, un conjunto compuesto por filas y columnas.\n",
        "\n",
        "Las Filas representan las observaciones y las Columnas las variables.\n",
        "\n",
        "\n",
        "  |Indice  | Variable 1    | Variable 2  | ....   | Variable m  |\n",
        "  |--------|---------------|-------------|--------|-------------|\n",
        "  |0       | $Obs_{0,1}$   | $Obs_{0,2}$ |....    | $Obs_{0,n}$ |\n",
        "  |1       | $Obs_{1,1}$   | $Obs_{1,2}$ |....    | $Obs_{1,n}$ |\n",
        "  |$\\vdots$| $\\vdots$      | $\\vdots$    |$\\vdots$| $\\vdots$    |\n",
        "  |n       | $Obs_{1,n}$   | $Obs_{1,n}$ |....    | $Obs_{n,m}$ |\n",
        "\n",
        "Recordemos que la **POSICIÓN** tanto de las Filas como de las Columnas comienzan desde cero.\n",
        "\n",
        "En las filas es facíl ver la posición , pues nos guiamos con el index (índice). \n",
        "En las columnas, esto ya no es tan evidente, en nuestro ejemplo la posición de las variables es la siguiente.\n",
        "\n",
        "|Posición| Número Variable|\n",
        "|--------|----------------|\n",
        "|0       | Variable 1     |\n",
        "|1       | Variable 2     |\n",
        "|$\\vdots$| $\\vdots$       |\n",
        "|n       | Variable n-1   |\n",
        "|n+1     | Variable n     |\n",
        "\n",
        "\n"
      ]
    },
    {
      "cell_type": "markdown",
      "metadata": {
        "id": "oy3q0_919w5m",
        "colab_type": "text"
      },
      "source": [
        ""
      ]
    },
    {
      "cell_type": "markdown",
      "metadata": {
        "id": "uu9pu23SuHtA",
        "colab_type": "text"
      },
      "source": [
        "## 2.- Cargar archivos\n",
        "\n",
        "Con **pandas-python** podemos cargar diferentes tipos de archivos, desde un .csv hasta un txt. Para nuetro taller basta por saber como cargar archivos .csv, .xlsx y .shp.\n",
        "\n",
        "Una pregunta que surgió es la siguiente:  ¿cómo puedo cargar un archivo que no sea desde el Colaboratory?\n",
        "\n",
        "La función es la misma que se explicó en la sesión 1:\n",
        "\n",
        "**pd.read_csv( \"dirección del archivo\")** en el caso de archivos  .csv\n",
        "\n",
        "**pd.read_excel( \"dirección del archivo\", sheet_name= \"nombre de la hoja\")** en el caso de archivos  .xlsx\n",
        "\n",
        "Por ejemplo:\n",
        "\n",
        "**df = pd.read_csv(\"/home/jfractal/Documentos/bases/carpetas-de-investigacion-pgj-de-la-ciudad-de-mexico-dic-2019.csv\")**\n",
        "\n",
        "Tenemos que la dirección donde se encuentra mi archivo es\n",
        "**/home/jfractal/Documentos/bases**\n",
        "\n",
        "El nombre de mi archivo es **carpetas-de-investigacion-pgj-de-la-ciudad-de-mexico-dic-2019.csv**\n",
        "\n",
        "Para el caso de **pd.read_excel( )** es lo mismo solo que le agruegamos el nombre de la hoja con la que se quiere trabajar.\n",
        "\n",
        "**df = pd.read_excel(\"/home/jfractal/Documentos/bases/carpetas-de-investigacion-pgj-de-la-ciudad-de-mexico-dic-2019.xlsx\", sheet_name = \"robos\")**\n",
        "\n",
        "Para cargar archivos desde el colaboratory. es muy sencillo. En el notebook le damos clic al ícono de carpeta y seleccionamos el ícono que se llama **cargar archivos al almacenamiento** (ícono de hoja con flecha) y seleccionamos el archivo que se quiere cargar en el almacenamiento de la sesión.\n",
        "\n",
        "\n",
        "\n",
        "Veamos un ejemplo\n"
      ]
    },
    {
      "cell_type": "code",
      "metadata": {
        "id": "kT1kWfvGtzqk",
        "colab_type": "code",
        "colab": {}
      },
      "source": [
        ""
      ],
      "execution_count": null,
      "outputs": []
    },
    {
      "cell_type": "markdown",
      "metadata": {
        "id": "GkTzw2pjt0dR",
        "colab_type": "text"
      },
      "source": [
        ""
      ]
    },
    {
      "cell_type": "code",
      "metadata": {
        "id": "HzXk8Epet1ES",
        "colab_type": "code",
        "colab": {}
      },
      "source": [
        ""
      ],
      "execution_count": null,
      "outputs": []
    },
    {
      "cell_type": "code",
      "metadata": {
        "id": "JfZhXZ09yLC2",
        "colab_type": "code",
        "colab": {
          "base_uri": "https://localhost:8080/",
          "height": 257
        },
        "outputId": "ae687e65-70c7-49ad-b663-0cdaf9b2a928"
      },
      "source": [
        "\"\"\"1.- Siempre hay que mandar a llamar a los módulos de Python con los que se va a trabajar. \n",
        "En nuestro caso llamaremos a pandas\"\"\"\n",
        "\n",
        "\n",
        "import pandas as pd  #pd es la clave con la que se trabaja pandas\"\"\"\n",
        "i\n",
        "\"\"\"Cargamos nuestro conjunto de datos\"\"\"\n",
        "\n",
        "df = pd.read_csv(\"casos-asociados-a-covid-19.csv\")\n"
      ],
      "execution_count": null,
      "outputs": [
        {
          "output_type": "error",
          "ename": "NameError",
          "evalue": "ignored",
          "traceback": [
            "\u001b[0;31m---------------------------------------------------------------------------\u001b[0m",
            "\u001b[0;31mNameError\u001b[0m                                 Traceback (most recent call last)",
            "\u001b[0;32m<ipython-input-1-3c77bbc13cc0>\u001b[0m in \u001b[0;36m<module>\u001b[0;34m()\u001b[0m\n\u001b[1;32m      4\u001b[0m \u001b[0;34m\u001b[0m\u001b[0m\n\u001b[1;32m      5\u001b[0m \u001b[0;32mimport\u001b[0m \u001b[0mpandas\u001b[0m \u001b[0;32mas\u001b[0m \u001b[0mpd\u001b[0m  \u001b[0;31m#pd es la clave con la que se trabaja pandas\"\"\"\u001b[0m\u001b[0;34m\u001b[0m\u001b[0;34m\u001b[0m\u001b[0m\n\u001b[0;32m----> 6\u001b[0;31m \u001b[0mi\u001b[0m\u001b[0;34m\u001b[0m\u001b[0;34m\u001b[0m\u001b[0m\n\u001b[0m\u001b[1;32m      7\u001b[0m \u001b[0;34m\"\"\"Cargamos nuestro conjunto de datos\"\"\"\u001b[0m\u001b[0;34m\u001b[0m\u001b[0;34m\u001b[0m\u001b[0m\n\u001b[1;32m      8\u001b[0m \u001b[0;34m\u001b[0m\u001b[0m\n",
            "\u001b[0;31mNameError\u001b[0m: name 'i' is not defined"
          ]
        }
      ]
    },
    {
      "cell_type": "markdown",
      "metadata": {
        "id": "LPfMDSuD1kn4",
        "colab_type": "text"
      },
      "source": [
        "¿Por qué read_csv lleva  pd al principio?\n",
        "\n",
        "Es por que read_csv es una función de pandas. Le ordeno a python que de el módulo pandas se va a necesitar la función read_csv.\n",
        "\n",
        "Al conjunto de datos que cargamos los nombramos como **df**, la cual funciona como nuestra variable que almacena a los datos recién cargados. Se recomienda nombrar a las variables con acrónimos  y en minúsculas."
      ]
    },
    {
      "cell_type": "markdown",
      "metadata": {
        "id": "Ly5kcTgr2Of2",
        "colab_type": "text"
      },
      "source": [
        "## 3.- Tipos de datos que contienen las Variables \n",
        "\n",
        "Para saber que tipo de datos contienen las variables, se utiliza la orden **.dtype**\n",
        "\n",
        "Utilizando nuestros datos esto seria  **df.dtype**. Le ordeno a python que  me muestre los tipos de datos de las variables que conforman el conjunto de datos **df**. Ojo está orden sólo funciona para  objetos de datos tipo data frame.\n",
        "\n",
        "Veamos el siguiente ejemplo.\n"
      ]
    },
    {
      "cell_type": "code",
      "metadata": {
        "id": "NjdOlAm03UXw",
        "colab_type": "code",
        "colab": {
          "base_uri": "https://localhost:8080/",
          "height": 809
        },
        "outputId": "f1d00c2f-cfbf-4d64-8a00-92c0761a4959"
      },
      "source": [
        "\"\"\" Utilizamos nuestro conjunto de datos df\"\"\"\n",
        "\n",
        "print(\"Clase de Objeto:\", type(df), \"\\n\\n\") ## La función type nos muetra que clase de objeto es nuestra variable df\n",
        "\n",
        "df.dtypes  ### Le ordeno que del conjunto de datos df me muestre sus tipo de dato de cad varible. \n"
      ],
      "execution_count": null,
      "outputs": [
        {
          "output_type": "stream",
          "text": [
            "Clase de Objeto: <class 'pandas.core.frame.DataFrame'> \n",
            "\n",
            "\n"
          ],
          "name": "stdout"
        },
        {
          "output_type": "execute_result",
          "data": {
            "text/plain": [
              "FECHA ACTUALIZACION               object\n",
              "ID_REGISTRO                       object\n",
              "ORIGEN                            object\n",
              "SECTOR                            object\n",
              "ENTIDAD UNIDAD MEDICA             object\n",
              "SEXO                              object\n",
              "ENTIDAD NACIMIENTO                object\n",
              "ENTIDAD RESIDENCIA                object\n",
              "MUNICIPIO RESIDENCIA              object\n",
              "TIPO PACIENTE                     object\n",
              "FECHA INGRESO                     object\n",
              "FECHA SINTOMAS                    object\n",
              "FECHA DEFUNCION                   object\n",
              "INTUBADO                          object\n",
              "NEUMONIA                          object\n",
              "EDAD                             float64\n",
              "NACIONALIDAD                      object\n",
              "EMBARAZO                          object\n",
              "HABLA LENGUA INDIGENA             object\n",
              "DIABETES                          object\n",
              "EPOC                              object\n",
              "ASMA                              object\n",
              "INMUNOSUPRESION                   object\n",
              "HIPERTENSION                      object\n",
              "OTRA COMPLICACION                 object\n",
              "CARDIOVASCULAR                    object\n",
              "OBESIDAD                          object\n",
              "RENAL CRONICA                     object\n",
              "TABAQUISMO                        object\n",
              "OTRO CASO                         object\n",
              "Negativo                          object\n",
              "MIGRANTE                          object\n",
              "PAIS NACIONALIDAD                 object\n",
              "PAIS ORIGEN                       object\n",
              "UNIDAD DE CUIDADOS INTENSIVOS     object\n",
              "RANGO EDAD                        object\n",
              "num_fallecidos                   float64\n",
              "num_hospitalizados               float64\n",
              "positivo                          object\n",
              "pendiente                        float64\n",
              "dtype: object"
            ]
          },
          "metadata": {
            "tags": []
          },
          "execution_count": 5
        }
      ]
    },
    {
      "cell_type": "markdown",
      "metadata": {
        "id": "7hggl2E-4Fe2",
        "colab_type": "text"
      },
      "source": [
        "## 4.-Renombrar variables\n",
        "\n",
        "En muchas ocasiones es mejor renombrar variables, para hacer un uso más cómodo de los datos.\n",
        "\n",
        "Se recomiena crear un diccionario con el nombre de la variable, acrónimo y que significa. Esto se puede hacer en un editor de texto.\n",
        "\n",
        "Por ejemplo\n",
        "\n",
        "|Nombre              | Acrónimo |                                |\n",
        "|------------------- |----------|--------------------------------|\n",
        "|FECHA ACTUALIZACION | fa       | Registro de Fecha              |\n",
        "|ID_REGISTRO         | idr      | Identificador Único de Registro|\n",
        "\n",
        "Veamos un ejemplo.\n",
        "\n"
      ]
    },
    {
      "cell_type": "code",
      "metadata": {
        "id": "yGY8w7nE4rP2",
        "colab_type": "code",
        "colab": {
          "base_uri": "https://localhost:8080/",
          "height": 428
        },
        "outputId": "585ca71b-d36b-40a1-9cd3-b88b9a6d52f8"
      },
      "source": [
        "df = df.rename(columns={\"FECHA ACTUALIZACION\": \"fa\", \"ID_REGISTRO\": \"idr\"})\n",
        "\"\"\" la función .head() me muestras las primeras 5 observaciones \"\"\"\n",
        "df.head() "
      ],
      "execution_count": null,
      "outputs": [
        {
          "output_type": "execute_result",
          "data": {
            "text/html": [
              "<div>\n",
              "<style scoped>\n",
              "    .dataframe tbody tr th:only-of-type {\n",
              "        vertical-align: middle;\n",
              "    }\n",
              "\n",
              "    .dataframe tbody tr th {\n",
              "        vertical-align: top;\n",
              "    }\n",
              "\n",
              "    .dataframe thead th {\n",
              "        text-align: right;\n",
              "    }\n",
              "</style>\n",
              "<table border=\"1\" class=\"dataframe\">\n",
              "  <thead>\n",
              "    <tr style=\"text-align: right;\">\n",
              "      <th></th>\n",
              "      <th>fa</th>\n",
              "      <th>idr</th>\n",
              "      <th>ORIGEN</th>\n",
              "      <th>SECTOR</th>\n",
              "      <th>ENTIDAD UNIDAD MEDICA</th>\n",
              "      <th>SEXO</th>\n",
              "      <th>ENTIDAD NACIMIENTO</th>\n",
              "      <th>ENTIDAD RESIDENCIA</th>\n",
              "      <th>MUNICIPIO RESIDENCIA</th>\n",
              "      <th>TIPO PACIENTE</th>\n",
              "      <th>FECHA INGRESO</th>\n",
              "      <th>FECHA SINTOMAS</th>\n",
              "      <th>FECHA DEFUNCION</th>\n",
              "      <th>INTUBADO</th>\n",
              "      <th>NEUMONIA</th>\n",
              "      <th>EDAD</th>\n",
              "      <th>NACIONALIDAD</th>\n",
              "      <th>EMBARAZO</th>\n",
              "      <th>HABLA LENGUA INDIGENA</th>\n",
              "      <th>DIABETES</th>\n",
              "      <th>EPOC</th>\n",
              "      <th>ASMA</th>\n",
              "      <th>INMUNOSUPRESION</th>\n",
              "      <th>HIPERTENSION</th>\n",
              "      <th>OTRA COMPLICACION</th>\n",
              "      <th>CARDIOVASCULAR</th>\n",
              "      <th>OBESIDAD</th>\n",
              "      <th>RENAL CRONICA</th>\n",
              "      <th>TABAQUISMO</th>\n",
              "      <th>OTRO CASO</th>\n",
              "      <th>Negativo</th>\n",
              "      <th>MIGRANTE</th>\n",
              "      <th>PAIS NACIONALIDAD</th>\n",
              "      <th>PAIS ORIGEN</th>\n",
              "      <th>UNIDAD DE CUIDADOS INTENSIVOS</th>\n",
              "      <th>RANGO EDAD</th>\n",
              "      <th>num_fallecidos</th>\n",
              "      <th>num_hospitalizados</th>\n",
              "      <th>positivo</th>\n",
              "      <th>pendiente</th>\n",
              "    </tr>\n",
              "  </thead>\n",
              "  <tbody>\n",
              "    <tr>\n",
              "      <th>0</th>\n",
              "      <td>2020-06-27</td>\n",
              "      <td>0d71db</td>\n",
              "      <td>USMER</td>\n",
              "      <td>SSA</td>\n",
              "      <td>GUERRERO</td>\n",
              "      <td>MUJER</td>\n",
              "      <td>GUERRERO</td>\n",
              "      <td>GUERRERO</td>\n",
              "      <td>NaN</td>\n",
              "      <td>HOSPITALIZADO</td>\n",
              "      <td>2020-06-16</td>\n",
              "      <td>2020-06-09</td>\n",
              "      <td>NaN</td>\n",
              "      <td>NO</td>\n",
              "      <td>SI</td>\n",
              "      <td>58.0</td>\n",
              "      <td>MEXICANA</td>\n",
              "      <td>NO</td>\n",
              "      <td>NO</td>\n",
              "      <td>NO</td>\n",
              "      <td>NO</td>\n",
              "      <td>NO</td>\n",
              "      <td>NO</td>\n",
              "      <td>NO</td>\n",
              "      <td>NO</td>\n",
              "      <td>NO</td>\n",
              "      <td>SI</td>\n",
              "      <td>NO</td>\n",
              "      <td>NO</td>\n",
              "      <td>NO ESPECIFICADO</td>\n",
              "      <td>NaN</td>\n",
              "      <td>NO ESPECIFICADO</td>\n",
              "      <td>México</td>\n",
              "      <td>99</td>\n",
              "      <td>NO</td>\n",
              "      <td>51-60</td>\n",
              "      <td>NaN</td>\n",
              "      <td>1.0</td>\n",
              "      <td>Positivo SARS-CoV-2</td>\n",
              "      <td>NaN</td>\n",
              "    </tr>\n",
              "    <tr>\n",
              "      <th>1</th>\n",
              "      <td>2020-06-27</td>\n",
              "      <td>01802c</td>\n",
              "      <td>USMER</td>\n",
              "      <td>SSA</td>\n",
              "      <td>VERACRUZ DE IGNACIO DE LA LLAVE</td>\n",
              "      <td>HOMBRE</td>\n",
              "      <td>VERACRUZ DE IGNACIO DE LA LLAVE</td>\n",
              "      <td>VERACRUZ DE IGNACIO DE LA LLAVE</td>\n",
              "      <td>NaN</td>\n",
              "      <td>HOSPITALIZADO</td>\n",
              "      <td>2020-06-22</td>\n",
              "      <td>2020-06-20</td>\n",
              "      <td>NaN</td>\n",
              "      <td>NO</td>\n",
              "      <td>NO</td>\n",
              "      <td>33.0</td>\n",
              "      <td>MEXICANA</td>\n",
              "      <td>NO APLICA</td>\n",
              "      <td>NO</td>\n",
              "      <td>NO</td>\n",
              "      <td>NO</td>\n",
              "      <td>NO</td>\n",
              "      <td>NO</td>\n",
              "      <td>NO</td>\n",
              "      <td>NO</td>\n",
              "      <td>NO</td>\n",
              "      <td>NO</td>\n",
              "      <td>NO</td>\n",
              "      <td>NO</td>\n",
              "      <td>SI</td>\n",
              "      <td>NaN</td>\n",
              "      <td>NO ESPECIFICADO</td>\n",
              "      <td>México</td>\n",
              "      <td>99</td>\n",
              "      <td>NO</td>\n",
              "      <td>31-40</td>\n",
              "      <td>NaN</td>\n",
              "      <td>1.0</td>\n",
              "      <td>Positivo SARS-CoV-2</td>\n",
              "      <td>NaN</td>\n",
              "    </tr>\n",
              "    <tr>\n",
              "      <th>2</th>\n",
              "      <td>2020-06-27</td>\n",
              "      <td>0e4bd0</td>\n",
              "      <td>USMER</td>\n",
              "      <td>SSA</td>\n",
              "      <td>CIUDAD DE MÉXICO</td>\n",
              "      <td>HOMBRE</td>\n",
              "      <td>CIUDAD DE MÉXICO</td>\n",
              "      <td>CIUDAD DE MÉXICO</td>\n",
              "      <td>Venustiano Carranza</td>\n",
              "      <td>AMBULATORIO</td>\n",
              "      <td>2020-06-05</td>\n",
              "      <td>2020-06-04</td>\n",
              "      <td>NaN</td>\n",
              "      <td>NO APLICA</td>\n",
              "      <td>NO</td>\n",
              "      <td>24.0</td>\n",
              "      <td>MEXICANA</td>\n",
              "      <td>NO APLICA</td>\n",
              "      <td>NO</td>\n",
              "      <td>NO</td>\n",
              "      <td>NO</td>\n",
              "      <td>NO</td>\n",
              "      <td>NO</td>\n",
              "      <td>NO</td>\n",
              "      <td>NO</td>\n",
              "      <td>NO</td>\n",
              "      <td>SI</td>\n",
              "      <td>NO</td>\n",
              "      <td>NO</td>\n",
              "      <td>NO</td>\n",
              "      <td>NaN</td>\n",
              "      <td>NO ESPECIFICADO</td>\n",
              "      <td>México</td>\n",
              "      <td>99</td>\n",
              "      <td>NO APLICA</td>\n",
              "      <td>21-30</td>\n",
              "      <td>NaN</td>\n",
              "      <td>NaN</td>\n",
              "      <td>Positivo SARS-CoV-2</td>\n",
              "      <td>NaN</td>\n",
              "    </tr>\n",
              "    <tr>\n",
              "      <th>3</th>\n",
              "      <td>2020-06-27</td>\n",
              "      <td>06c560</td>\n",
              "      <td>USMER</td>\n",
              "      <td>IMSS</td>\n",
              "      <td>TAMAULIPAS</td>\n",
              "      <td>MUJER</td>\n",
              "      <td>TAMAULIPAS</td>\n",
              "      <td>TAMAULIPAS</td>\n",
              "      <td>NaN</td>\n",
              "      <td>HOSPITALIZADO</td>\n",
              "      <td>2020-06-20</td>\n",
              "      <td>2020-06-20</td>\n",
              "      <td>NaN</td>\n",
              "      <td>NO</td>\n",
              "      <td>NO</td>\n",
              "      <td>34.0</td>\n",
              "      <td>MEXICANA</td>\n",
              "      <td>NO</td>\n",
              "      <td>NO</td>\n",
              "      <td>NO</td>\n",
              "      <td>NO</td>\n",
              "      <td>NO</td>\n",
              "      <td>NO</td>\n",
              "      <td>NO</td>\n",
              "      <td>NO</td>\n",
              "      <td>NO</td>\n",
              "      <td>NO</td>\n",
              "      <td>NO</td>\n",
              "      <td>NO</td>\n",
              "      <td>NO ESPECIFICADO</td>\n",
              "      <td>NaN</td>\n",
              "      <td>NO ESPECIFICADO</td>\n",
              "      <td>México</td>\n",
              "      <td>99</td>\n",
              "      <td>NO</td>\n",
              "      <td>31-40</td>\n",
              "      <td>NaN</td>\n",
              "      <td>1.0</td>\n",
              "      <td>Positivo SARS-CoV-2</td>\n",
              "      <td>NaN</td>\n",
              "    </tr>\n",
              "    <tr>\n",
              "      <th>4</th>\n",
              "      <td>2020-06-27</td>\n",
              "      <td>0a16f6</td>\n",
              "      <td>USMER</td>\n",
              "      <td>SSA</td>\n",
              "      <td>SONORA</td>\n",
              "      <td>MUJER</td>\n",
              "      <td>SONORA</td>\n",
              "      <td>SONORA</td>\n",
              "      <td>NaN</td>\n",
              "      <td>HOSPITALIZADO</td>\n",
              "      <td>2020-06-13</td>\n",
              "      <td>2020-05-31</td>\n",
              "      <td>NaN</td>\n",
              "      <td>NO</td>\n",
              "      <td>SI</td>\n",
              "      <td>43.0</td>\n",
              "      <td>MEXICANA</td>\n",
              "      <td>NO</td>\n",
              "      <td>NO</td>\n",
              "      <td>NO</td>\n",
              "      <td>NO</td>\n",
              "      <td>NO</td>\n",
              "      <td>NO</td>\n",
              "      <td>NO</td>\n",
              "      <td>NO</td>\n",
              "      <td>NO</td>\n",
              "      <td>SI</td>\n",
              "      <td>NO</td>\n",
              "      <td>NO</td>\n",
              "      <td>SI</td>\n",
              "      <td>NaN</td>\n",
              "      <td>NO ESPECIFICADO</td>\n",
              "      <td>México</td>\n",
              "      <td>99</td>\n",
              "      <td>NO</td>\n",
              "      <td>41-50</td>\n",
              "      <td>NaN</td>\n",
              "      <td>1.0</td>\n",
              "      <td>Positivo SARS-CoV-2</td>\n",
              "      <td>NaN</td>\n",
              "    </tr>\n",
              "  </tbody>\n",
              "</table>\n",
              "</div>"
            ],
            "text/plain": [
              "           fa     idr  ...             positivo pendiente\n",
              "0  2020-06-27  0d71db  ...  Positivo SARS-CoV-2       NaN\n",
              "1  2020-06-27  01802c  ...  Positivo SARS-CoV-2       NaN\n",
              "2  2020-06-27  0e4bd0  ...  Positivo SARS-CoV-2       NaN\n",
              "3  2020-06-27  06c560  ...  Positivo SARS-CoV-2       NaN\n",
              "4  2020-06-27  0a16f6  ...  Positivo SARS-CoV-2       NaN\n",
              "\n",
              "[5 rows x 40 columns]"
            ]
          },
          "metadata": {
            "tags": []
          },
          "execution_count": 9
        }
      ]
    },
    {
      "cell_type": "markdown",
      "metadata": {
        "id": "Qt1ZtqUf6YeG",
        "colab_type": "text"
      },
      "source": [
        "La orden que se le dio a python fue que del conjunto de datos df cambiará de nombre (rename) a las columnas \"FECHA ACTUALIZACION\" por \"fa\" y \"ID_REGISTRO\" por \"idr\"."
      ]
    },
    {
      "cell_type": "markdown",
      "metadata": {
        "id": "NV4EUWRY7Lze",
        "colab_type": "text"
      },
      "source": [
        "## 5.- Seleccionar Columnas\n",
        "\n",
        "Muchas veces sólo se quiere trabajar con ciertas variables. Para ello se pueden utilizar dos funciones de pandas.\n",
        "\n",
        "a) **.loc** que se utiliza si se quiere seleccionar por etiqueta; o\n",
        "\n",
        "b) **.iloc** que se utiliza si se quiere seleccionar por posición.\n",
        "\n",
        "Veamos unos ejemplos"
      ]
    },
    {
      "cell_type": "markdown",
      "metadata": {
        "id": "jtnH6DUk6sCj",
        "colab_type": "text"
      },
      "source": [
        "### 5.1 **loc**\n"
      ]
    },
    {
      "cell_type": "code",
      "metadata": {
        "id": "MZUEQXoH79tu",
        "colab_type": "code",
        "colab": {
          "base_uri": "https://localhost:8080/",
          "height": 125
        },
        "outputId": "89e981f9-1f91-4a06-b520-15236c3fa887"
      },
      "source": [
        "\"\"\"Seleccionamos la variable ENTIDAD NACIMIENTO\"\"\"\n",
        "\n",
        "ent_nac = df.loc[:,\"ENTIDAD NACIMIENTO\"]\n",
        "ent_nac.head()"
      ],
      "execution_count": null,
      "outputs": [
        {
          "output_type": "execute_result",
          "data": {
            "text/plain": [
              "0                           GUERRERO\n",
              "1    VERACRUZ DE IGNACIO DE LA LLAVE\n",
              "2                   CIUDAD DE MÉXICO\n",
              "3                         TAMAULIPAS\n",
              "4                             SONORA\n",
              "Name: ENTIDAD NACIMIENTO, dtype: object"
            ]
          },
          "metadata": {
            "tags": []
          },
          "execution_count": 13
        }
      ]
    },
    {
      "cell_type": "markdown",
      "metadata": {
        "id": "lzbrryvw8yR5",
        "colab_type": "text"
      },
      "source": [
        "### 5.2 **iloc**\n"
      ]
    },
    {
      "cell_type": "code",
      "metadata": {
        "id": "nzgWkorf87oA",
        "colab_type": "code",
        "colab": {
          "base_uri": "https://localhost:8080/",
          "height": 35
        },
        "outputId": "c0f03d79-3d9e-48b5-d084-ca41373062f9"
      },
      "source": [
        "\"\"\"Seleccionamos la variable SECTOR que ocupa el lugar  3. Recordemos  que la posición de las variables comienzta desde cero\"\"\"\n",
        "\n",
        "sec = df.iloc[:,3]\n",
        "sec.head()\n"
      ],
      "execution_count": null,
      "outputs": [
        {
          "output_type": "execute_result",
          "data": {
            "text/plain": [
              "pandas.core.series.Series"
            ]
          },
          "metadata": {
            "tags": []
          },
          "execution_count": 15
        }
      ]
    },
    {
      "cell_type": "markdown",
      "metadata": {
        "id": "tYaPTdmf9yYl",
        "colab_type": "text"
      },
      "source": [
        "## 6 .- Seleccionar Filas y Columnas\n",
        "\n",
        "Para seleccionar  varias Columas y Filas, se utilizan las mimas funciones, solo especificamos el \"intervalo y las variables que necesitamos\"\n",
        "\n",
        "Veamos el siguiente ejemplo"
      ]
    },
    {
      "cell_type": "code",
      "metadata": {
        "id": "2T2H7xTC-haV",
        "colab_type": "code",
        "colab": {
          "base_uri": "https://localhost:8080/",
          "height": 390
        },
        "outputId": "a5ddaf61-82da-4dea-99d0-1259f33a6df6"
      },
      "source": [
        "\"\"\"Estamos creado una variable que se llama df_varias, la cual esta compuesta por las siguientes variables del conjunto de datos df: \n",
        "fa, idr, SEXO, RANGO EDAD y positivio. El número de observaciones van desde 0 a 10 (11 observaciones en total)\n",
        "\"\"\" \n",
        "\n",
        "df_varias = df.loc[0:10, (\"fa\",\"idr\",\"SEXO\", \"RANGO EDAD\", \"positivo\")]\n",
        "df_varias"
      ],
      "execution_count": null,
      "outputs": [
        {
          "output_type": "execute_result",
          "data": {
            "text/html": [
              "<div>\n",
              "<style scoped>\n",
              "    .dataframe tbody tr th:only-of-type {\n",
              "        vertical-align: middle;\n",
              "    }\n",
              "\n",
              "    .dataframe tbody tr th {\n",
              "        vertical-align: top;\n",
              "    }\n",
              "\n",
              "    .dataframe thead th {\n",
              "        text-align: right;\n",
              "    }\n",
              "</style>\n",
              "<table border=\"1\" class=\"dataframe\">\n",
              "  <thead>\n",
              "    <tr style=\"text-align: right;\">\n",
              "      <th></th>\n",
              "      <th>fa</th>\n",
              "      <th>idr</th>\n",
              "      <th>SEXO</th>\n",
              "      <th>RANGO EDAD</th>\n",
              "      <th>positivo</th>\n",
              "    </tr>\n",
              "  </thead>\n",
              "  <tbody>\n",
              "    <tr>\n",
              "      <th>0</th>\n",
              "      <td>2020-06-27</td>\n",
              "      <td>0d71db</td>\n",
              "      <td>MUJER</td>\n",
              "      <td>51-60</td>\n",
              "      <td>Positivo SARS-CoV-2</td>\n",
              "    </tr>\n",
              "    <tr>\n",
              "      <th>1</th>\n",
              "      <td>2020-06-27</td>\n",
              "      <td>01802c</td>\n",
              "      <td>HOMBRE</td>\n",
              "      <td>31-40</td>\n",
              "      <td>Positivo SARS-CoV-2</td>\n",
              "    </tr>\n",
              "    <tr>\n",
              "      <th>2</th>\n",
              "      <td>2020-06-27</td>\n",
              "      <td>0e4bd0</td>\n",
              "      <td>HOMBRE</td>\n",
              "      <td>21-30</td>\n",
              "      <td>Positivo SARS-CoV-2</td>\n",
              "    </tr>\n",
              "    <tr>\n",
              "      <th>3</th>\n",
              "      <td>2020-06-27</td>\n",
              "      <td>06c560</td>\n",
              "      <td>MUJER</td>\n",
              "      <td>31-40</td>\n",
              "      <td>Positivo SARS-CoV-2</td>\n",
              "    </tr>\n",
              "    <tr>\n",
              "      <th>4</th>\n",
              "      <td>2020-06-27</td>\n",
              "      <td>0a16f6</td>\n",
              "      <td>MUJER</td>\n",
              "      <td>41-50</td>\n",
              "      <td>Positivo SARS-CoV-2</td>\n",
              "    </tr>\n",
              "    <tr>\n",
              "      <th>5</th>\n",
              "      <td>2020-06-27</td>\n",
              "      <td>0db714</td>\n",
              "      <td>HOMBRE</td>\n",
              "      <td>21-30</td>\n",
              "      <td>Positivo SARS-CoV-2</td>\n",
              "    </tr>\n",
              "    <tr>\n",
              "      <th>6</th>\n",
              "      <td>2020-06-27</td>\n",
              "      <td>19ed7a</td>\n",
              "      <td>HOMBRE</td>\n",
              "      <td>81-90</td>\n",
              "      <td>Positivo SARS-CoV-2</td>\n",
              "    </tr>\n",
              "    <tr>\n",
              "      <th>7</th>\n",
              "      <td>2020-06-27</td>\n",
              "      <td>0fa7d4</td>\n",
              "      <td>HOMBRE</td>\n",
              "      <td>61-70</td>\n",
              "      <td>Positivo SARS-CoV-2</td>\n",
              "    </tr>\n",
              "    <tr>\n",
              "      <th>8</th>\n",
              "      <td>2020-06-27</td>\n",
              "      <td>03ae39</td>\n",
              "      <td>HOMBRE</td>\n",
              "      <td>31-40</td>\n",
              "      <td>Positivo SARS-CoV-2</td>\n",
              "    </tr>\n",
              "    <tr>\n",
              "      <th>9</th>\n",
              "      <td>2020-06-27</td>\n",
              "      <td>134666</td>\n",
              "      <td>MUJER</td>\n",
              "      <td>41-50</td>\n",
              "      <td>Positivo SARS-CoV-2</td>\n",
              "    </tr>\n",
              "    <tr>\n",
              "      <th>10</th>\n",
              "      <td>2020-06-27</td>\n",
              "      <td>0ce5c0</td>\n",
              "      <td>HOMBRE</td>\n",
              "      <td>61-70</td>\n",
              "      <td>Positivo SARS-CoV-2</td>\n",
              "    </tr>\n",
              "  </tbody>\n",
              "</table>\n",
              "</div>"
            ],
            "text/plain": [
              "            fa     idr    SEXO RANGO EDAD             positivo\n",
              "0   2020-06-27  0d71db   MUJER      51-60  Positivo SARS-CoV-2\n",
              "1   2020-06-27  01802c  HOMBRE      31-40  Positivo SARS-CoV-2\n",
              "2   2020-06-27  0e4bd0  HOMBRE      21-30  Positivo SARS-CoV-2\n",
              "3   2020-06-27  06c560   MUJER      31-40  Positivo SARS-CoV-2\n",
              "4   2020-06-27  0a16f6   MUJER      41-50  Positivo SARS-CoV-2\n",
              "5   2020-06-27  0db714  HOMBRE      21-30  Positivo SARS-CoV-2\n",
              "6   2020-06-27  19ed7a  HOMBRE      81-90  Positivo SARS-CoV-2\n",
              "7   2020-06-27  0fa7d4  HOMBRE      61-70  Positivo SARS-CoV-2\n",
              "8   2020-06-27  03ae39  HOMBRE      31-40  Positivo SARS-CoV-2\n",
              "9   2020-06-27  134666   MUJER      41-50  Positivo SARS-CoV-2\n",
              "10  2020-06-27  0ce5c0  HOMBRE      61-70  Positivo SARS-CoV-2"
            ]
          },
          "metadata": {
            "tags": []
          },
          "execution_count": 19
        }
      ]
    },
    {
      "cell_type": "code",
      "metadata": {
        "id": "PIwnc38FBj4j",
        "colab_type": "code",
        "colab": {
          "base_uri": "https://localhost:8080/",
          "height": 359
        },
        "outputId": "7b1cbfd9-015a-4940-d612-66cefb294d1f"
      },
      "source": [
        "\"\"\"Estamos creado una variable que se llama df_varias2, la cual esta compuesta por las  variables del conjunto de datos df  \n",
        "que van de la vriable 0 a la variable 4 . El número de observaciones van desde 10 a 20 (10 observaciones en total)\n",
        "\"\"\" \n",
        "\n",
        "df_varias2 = df.iloc[10:20, 0:4]\n",
        "df_varias2\n"
      ],
      "execution_count": null,
      "outputs": [
        {
          "output_type": "execute_result",
          "data": {
            "text/html": [
              "<div>\n",
              "<style scoped>\n",
              "    .dataframe tbody tr th:only-of-type {\n",
              "        vertical-align: middle;\n",
              "    }\n",
              "\n",
              "    .dataframe tbody tr th {\n",
              "        vertical-align: top;\n",
              "    }\n",
              "\n",
              "    .dataframe thead th {\n",
              "        text-align: right;\n",
              "    }\n",
              "</style>\n",
              "<table border=\"1\" class=\"dataframe\">\n",
              "  <thead>\n",
              "    <tr style=\"text-align: right;\">\n",
              "      <th></th>\n",
              "      <th>fa</th>\n",
              "      <th>idr</th>\n",
              "      <th>ORIGEN</th>\n",
              "      <th>SECTOR</th>\n",
              "    </tr>\n",
              "  </thead>\n",
              "  <tbody>\n",
              "    <tr>\n",
              "      <th>10</th>\n",
              "      <td>2020-06-27</td>\n",
              "      <td>0ce5c0</td>\n",
              "      <td>USMER</td>\n",
              "      <td>SSA</td>\n",
              "    </tr>\n",
              "    <tr>\n",
              "      <th>11</th>\n",
              "      <td>2020-06-27</td>\n",
              "      <td>1ba35f</td>\n",
              "      <td>USMER</td>\n",
              "      <td>SSA</td>\n",
              "    </tr>\n",
              "    <tr>\n",
              "      <th>12</th>\n",
              "      <td>2020-06-27</td>\n",
              "      <td>0fbe1d</td>\n",
              "      <td>USMER</td>\n",
              "      <td>ISSSTE</td>\n",
              "    </tr>\n",
              "    <tr>\n",
              "      <th>13</th>\n",
              "      <td>2020-06-27</td>\n",
              "      <td>1958d9</td>\n",
              "      <td>USMER</td>\n",
              "      <td>SSA</td>\n",
              "    </tr>\n",
              "    <tr>\n",
              "      <th>14</th>\n",
              "      <td>2020-06-27</td>\n",
              "      <td>11ee9b</td>\n",
              "      <td>USMER</td>\n",
              "      <td>SSA</td>\n",
              "    </tr>\n",
              "    <tr>\n",
              "      <th>15</th>\n",
              "      <td>2020-06-27</td>\n",
              "      <td>0e9e2d</td>\n",
              "      <td>USMER</td>\n",
              "      <td>IMSS</td>\n",
              "    </tr>\n",
              "    <tr>\n",
              "      <th>16</th>\n",
              "      <td>2020-06-27</td>\n",
              "      <td>09d01c</td>\n",
              "      <td>USMER</td>\n",
              "      <td>SSA</td>\n",
              "    </tr>\n",
              "    <tr>\n",
              "      <th>17</th>\n",
              "      <td>2020-06-27</td>\n",
              "      <td>198f5e</td>\n",
              "      <td>USMER</td>\n",
              "      <td>ISSSTE</td>\n",
              "    </tr>\n",
              "    <tr>\n",
              "      <th>18</th>\n",
              "      <td>2020-06-27</td>\n",
              "      <td>1986ec</td>\n",
              "      <td>USMER</td>\n",
              "      <td>SSA</td>\n",
              "    </tr>\n",
              "    <tr>\n",
              "      <th>19</th>\n",
              "      <td>2020-06-27</td>\n",
              "      <td>1cc891</td>\n",
              "      <td>USMER</td>\n",
              "      <td>SSA</td>\n",
              "    </tr>\n",
              "  </tbody>\n",
              "</table>\n",
              "</div>"
            ],
            "text/plain": [
              "            fa     idr ORIGEN  SECTOR\n",
              "10  2020-06-27  0ce5c0  USMER     SSA\n",
              "11  2020-06-27  1ba35f  USMER     SSA\n",
              "12  2020-06-27  0fbe1d  USMER  ISSSTE\n",
              "13  2020-06-27  1958d9  USMER     SSA\n",
              "14  2020-06-27  11ee9b  USMER     SSA\n",
              "15  2020-06-27  0e9e2d  USMER    IMSS\n",
              "16  2020-06-27  09d01c  USMER     SSA\n",
              "17  2020-06-27  198f5e  USMER  ISSSTE\n",
              "18  2020-06-27  1986ec  USMER     SSA\n",
              "19  2020-06-27  1cc891  USMER     SSA"
            ]
          },
          "metadata": {
            "tags": []
          },
          "execution_count": 21
        }
      ]
    },
    {
      "cell_type": "markdown",
      "metadata": {
        "id": "flkGZpYQCOIX",
        "colab_type": "text"
      },
      "source": [
        "## NOTA 2\n",
        "\n",
        "La notación **df.iloc[10:20, 0:4]** significa que del conjunto de datos **df** se van a tomar filas (observaciones) que van de la 10 a la 20  y las columnas (variables) que van de la 0 a la 4 (**[Filas,Columnas]**)  . Notamos que  el índice de las observaciones va de 10 a 19 (10 datos), uno esperaría que fuera de la observación 10 a la observación 20. Esto se debe que el ** [ : , : ] ** (slice)  para las filas funciona como un intervalo cerrado por la izquierda y abireto por la derecha **[10:20 , )**. Es decir,  toma el antepenúltimo  índice.  \n"
      ]
    }
  ]
}