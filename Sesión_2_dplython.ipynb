{
  "nbformat": 4,
  "nbformat_minor": 0,
  "metadata": {
    "colab": {
      "name": "Sesión 2 dplython.ipynb",
      "provenance": [],
      "collapsed_sections": [],
      "authorship_tag": "ABX9TyNuAKfFA2ojOBERFnmPEjgB",
      "include_colab_link": true
    },
    "kernelspec": {
      "name": "python3",
      "display_name": "Python 3"
    }
  },
  "cells": [
    {
      "cell_type": "markdown",
      "metadata": {
        "id": "view-in-github",
        "colab_type": "text"
      },
      "source": [
        "<a href=\"https://colab.research.google.com/github/jfgs86/Taller-de-Pandas-Python/blob/master/Sesi%C3%B3n_2_dplython.ipynb\" target=\"_parent\"><img src=\"https://colab.research.google.com/assets/colab-badge.svg\" alt=\"Open In Colab\"/></a>"
      ]
    },
    {
      "cell_type": "markdown",
      "metadata": {
        "id": "Q1l0URM-RvI4",
        "colab_type": "text"
      },
      "source": [
        "# *Grupo de Estudio en Sistemas Complejos, Simulación Computacional y Dinámica Social  de la Maestría en Ciencias de la Complejidad UACM*\n",
        "\n",
        "# **TALLER DE PANDAS PYTHON**\n",
        "## Imparte Lic. Juan Francisco Gracia Sercado. Estudiante de la Maestría de Ciencias de la Complejidad. UACM\n",
        "<img src=https://aprendeconalf.es/python/manual/img/pandas-logo.png width=\"800\">\n",
        "\n",
        "\n",
        "\n",
        "\n",
        "# **SESIÓN 2: DPLYTHON** \n",
        "## _Una creación de R  que le gusto a Python_\n",
        "\n",
        "![texto alternativo](https://miro.medium.com/max/360/1*eHN6Y1UjstHdXmDtPuaTDw.png)\n",
        "\n",
        "\n",
        "Dplyr es una biblioteca para el lenguaje R diseñada para hacer que el análisis de datos sea rápido y fácil. La filosofía de Dplyr es restringir la manipulación de datos a unas pocas funciones simples que corresponden a las tareas más comunes. Esto mapea el pensamiento más cercano al proceso de escribir código, ayudándole a acercarse para analizar datos a la \"velocidad del pensamiento\".\n",
        "\n",
        "El objetivo de este proyecto es implementar la funcionalidad del paquete R Dplyr sobre los pandas de Python.\n",
        "\n",
        "\n",
        "## Instalación\n",
        "\n",
        "Para poder hacer uso de **dplython** es necesario instalar el módulo en el colaboratory. Esto se realiza de la siguiente forma."
      ]
    },
    {
      "cell_type": "code",
      "metadata": {
        "id": "SwmWRPalT6-t",
        "colab_type": "code",
        "colab": {}
      },
      "source": [
        "!pip install dplython"
      ],
      "execution_count": null,
      "outputs": []
    },
    {
      "cell_type": "markdown",
      "metadata": {
        "id": "cyfs8TIOV4tL",
        "colab_type": "text"
      },
      "source": [
        ""
      ]
    },
    {
      "cell_type": "code",
      "metadata": {
        "id": "gDP_CVA6ZlQE",
        "colab_type": "code",
        "colab": {}
      },
      "source": [
        "import pandas as pd\n",
        "from dplython import (DplyFrame, X, select, sift, \n",
        "                     mutate, group_by,summarize, count, arrange)\n",
        "\n",
        "df = pd.read_csv(\"afluencia-preliminar-en-transporte-publico.csv\")\n",
        "df.dtypes"
      ],
      "execution_count": null,
      "outputs": []
    },
    {
      "cell_type": "markdown",
      "metadata": {
        "id": "YLXG82nqWN5E",
        "colab_type": "text"
      },
      "source": [
        "## NOTA 1\n",
        "Una forma de importar las funciones de **Dplython** sin la necesidad de escribir una por una es de la siguiente manera:\n",
        "\n",
        "**from dplython import***\n"
      ]
    },
    {
      "cell_type": "markdown",
      "metadata": {
        "id": "WnKLjawvXeTY",
        "colab_type": "text"
      },
      "source": [
        "Para hacer más eficiente el manejo de nuestro conjunto de datos, cambiaremos el nombre de las variables (columnas). Para ello, recordemos, usamos el método **rename**\n"
      ]
    },
    {
      "cell_type": "code",
      "metadata": {
        "id": "vle-jeCn6YN1",
        "colab_type": "code",
        "colab": {}
      },
      "source": [
        "\"\"\" Cambiamos el nombre las variables \"\"\"\n",
        "df = df.rename(columns={\"FECHA\":\"fecha\", \"DÍA MES\": \"dia_mes\",\n",
        "                        \"DÍA SEMANA\": \"dia_semana\", \"MES\":\"mes\",\n",
        "                        \"AÑO\":\"año\", \"ORGANISMO\":\"organismo\", \n",
        "                        \"LINEA/SERVICIO\":\"linea_servicio\", \"AFLUENCIA TARJETA\":\"afluencia_tarjeta\",\n",
        "                        \"AFLUENCIA BOLETO\":\"afluencia_boleto\", \"AFLUENCIA TOTAL\\n(cifras preliminares)\":\"afluencia_total\"})\n",
        "\n",
        "\"\"\" El método fillna() es para cambiar tipo de datos NaN (Not a Number)\n",
        "el la intrucción  de la línea 13  le estamos ordenando a python que los tipos de \n",
        "datos NaN los transforme a 0.\n",
        "\"\"\"\n",
        "\n",
        "df = df.fillna(0)"
      ],
      "execution_count": null,
      "outputs": []
    },
    {
      "cell_type": "markdown",
      "metadata": {
        "id": "7n5s4GGHX4yc",
        "colab_type": "text"
      },
      "source": [
        "## NOTA 2 (Muy Importante)\n",
        "\n",
        "Para poder trabajar con el módulo de **Dplython** es necesario tranformar el objeto a un **DplyFrame**.\n"
      ]
    },
    {
      "cell_type": "code",
      "metadata": {
        "id": "axqsw0g3aXee",
        "colab_type": "code",
        "colab": {}
      },
      "source": [
        "df1 = DplyFrame(df)\n",
        "type(df1) "
      ],
      "execution_count": null,
      "outputs": []
    },
    {
      "cell_type": "markdown",
      "metadata": {
        "id": "6AvM5y86bGlL",
        "colab_type": "text"
      },
      "source": [
        "## Nota 3 (Tip)\n",
        "En siguiente bloque de código nos ayuda a poder darle orden a variables categóricas de tipo ordinal. En nuestro caso ordenaremos los días por (valga la redundancia) por día de la semana. Esto es por que python nos ordena  las variables de tipo string en orden alfabético. Es muy útil para cuando se va a graficar\n",
        "\n",
        "1. Creamos una lista con los días de la semana.\n",
        "\n",
        "2. Le indicamos a python que vamos a trabajar con la columna **\"dia_semana\"** del DplyFrame **df1**\n",
        "\n",
        "3. Utilizamos el método **Categorical**  de pandas para poder ordenar la variable por día de la semana.\n",
        "\n",
        "4. El método **Categorical** necesita tres argumentos básicos.\n",
        "\n",
        "\n",
        "  |    Argumeto    |                                                         |\n",
        "  |----------------|---------------------------------------------------------|\n",
        "  |Variable        |Variable/Columna que se va a ordenar.                    |\n",
        "  |categories      |Las categorías que se van a ordenar.                      |\n",
        "  |ordered         |Como se van a ordenar los datos. Sí es True, entonces se ordenan de manera ascendente. Sí es False se ordenan de manera descendente.|\n",
        "\n",
        "En  nuestro ejemplo estamos ordenando la variable **'dia_semana'** del conjunto de datos **df1**. El orden de las categorias es la lista **semana** y queremos que se ordenen de manera ascendente, es decir, que sea de Lunes -> Domingo.\n",
        "  \n",
        "\n",
        "  \n",
        "\n",
        "\n",
        "\n"
      ]
    },
    {
      "cell_type": "code",
      "metadata": {
        "id": "ewJR1S3qo36F",
        "colab_type": "code",
        "colab": {}
      },
      "source": [
        "semana = ['Lunes', 'Martes', 'Miércoles', 'Jueves', 'Viernes', 'Sábado', 'Domingo']\n",
        "df1['dia_semana'] = pd.Categorical(df1['dia_semana'], categories=semana, ordered=True)"
      ],
      "execution_count": null,
      "outputs": []
    },
    {
      "cell_type": "markdown",
      "metadata": {
        "id": "RBKvopW7gYzR",
        "colab_type": "text"
      },
      "source": [
        "### Métodos de Dplython\n",
        "### Método **select**\n",
        "\n",
        "Este método sirve para seleccionar columnas del conjunto de datos DplyFrame.\n",
        "\n",
        "1. Para seleccionar una variable simpre es necesario comenzar con una **X**, por ejemplo, **X.nombre_la_variable**.\n",
        "\n",
        "2. Para poder usar cualquier método de **Dplython** es necesario concatenar la operación que se quiera usar. Esta concatenación se realiza con **>>**. A esto se le conoce como **tuberías**.\n",
        "\n",
        "Veamos unos ejemplos\n"
      ]
    },
    {
      "cell_type": "code",
      "metadata": {
        "id": "bZEArU1ujCSq",
        "colab_type": "code",
        "colab": {}
      },
      "source": [
        "\"\"\" Creamos una nueva variable\"\"\"\n",
        "df2 = df1 >> select(X.organismo)\n",
        "df2"
      ],
      "execution_count": null,
      "outputs": []
    },
    {
      "cell_type": "markdown",
      "metadata": {
        "id": "6YgmgX1LjQ6z",
        "colab_type": "text"
      },
      "source": [
        "En el bloque de arriba se esta ejecutando la siguente instrucción:\n",
        "\n",
        "De la variable **df1** le voy aplicar (**>>**) el método **select**, para seleccionar la variable organismo **(X.organismo)**.\n",
        "\n",
        "Para seleccionar más de una variable sólo separamos con una coma. Veamos un ejemplo,"
      ]
    },
    {
      "cell_type": "code",
      "metadata": {
        "id": "5smcjimLkQxx",
        "colab_type": "code",
        "colab": {}
      },
      "source": [
        "df3 = df1 >> select(X.organismo, X.afluencia_total)\n",
        "\"\"\" De la variable df1 aplicamos el método select para seleccionar las variables organismo y afluencia_total\"\"\" \n",
        "df3"
      ],
      "execution_count": null,
      "outputs": []
    },
    {
      "cell_type": "markdown",
      "metadata": {
        "id": "FFN_qhSmljfl",
        "colab_type": "text"
      },
      "source": [
        "## Métodos de Dplython\n",
        "### Método sift\n",
        "\n",
        "El método **sift** sirve para crear subconjuntos a partir de filtrar elemntos de una o varias columnas.\n",
        "\n",
        "Veamos un guapachoso ejemplo."
      ]
    },
    {
      "cell_type": "code",
      "metadata": {
        "id": "iTeZc0EgliLT",
        "colab_type": "code",
        "colab": {}
      },
      "source": [
        "df4 = df1 >> sift(X.organismo == \"Ecobici\")\n",
        "df4"
      ],
      "execution_count": null,
      "outputs": []
    },
    {
      "cell_type": "markdown",
      "metadata": {
        "id": "_rTLBCKInXKw",
        "colab_type": "text"
      },
      "source": [
        "En el bloque número 12, estoy dando la siguiente instrucción:\n",
        "\n",
        "De la variablle **df1** le concatenamos (**>>**) la operación **sift** para que de la variable **X.organismo** me filtre todos los valores que se llaman **Ecobici**. \n",
        "\n",
        "Entonces se va crear un subconjunto de datos que se toman de **df1** pero sólo con el valor de **\"Ecobici\"**.\n",
        "\n",
        "Pero ¿cómo se pueden aplicar más filtros?\n",
        "\n",
        "Para poder crear subconjutos con más de un filtre se hace lo siguiente."
      ]
    },
    {
      "cell_type": "code",
      "metadata": {
        "id": "5I_Jm4kppRja",
        "colab_type": "code",
        "colab": {}
      },
      "source": [
        "df5_1 = df1 >> sift((X.organismo == \"Ecobici\") & (X.dia_semana == \"Lunes\"))\n",
        "df5_2 = df1 >> sift((X.dia_semana == \"Lunes\") | (X.dia_semana == \"Jueves\"))\n",
        "df5_3 = df1 >> sift(X.dia_semana != \"Martes\")\n",
        "df5_4 = df1 >> sift((X.dia_semana != \"Martes\") & (X.dia_semana != \"Viernes\"))\n",
        "df5_5 = df1 >> sift(X.afluencia_total > 8000) #-> También aplica >= \n",
        "df5_6 = df1 >> sift(X.afluencia_total < 8000) #-> También aplica <=\n",
        "df5_7 = df1 >> sift((X.afluencia_total > 5000) & (X.afluencia_total < 10000))\n",
        "df5_8 = df1 >> sift((X.organismo == \"Ecobici\") & (X.dia_semana == \"Lunes\") & (X.afluencia_total > 5000) & (X.afluencia_total < 10000))"
      ],
      "execution_count": null,
      "outputs": []
    },
    {
      "cell_type": "markdown",
      "metadata": {
        "id": "behIoM-OnWU4",
        "colab_type": "text"
      },
      "source": [
        "En el bloque 14 (arriba) se crearon los siguientes subconjuntos:\n",
        "\n",
        "1. df5_1 : Subconjunto que contiene sólo los valores de **Ecobici** y los días **Lunes**.\n",
        "\n",
        "2. df5_2 : Subconjuto de datos que contiene los valores de los días **Lunes** y **Martes**.\n",
        "\n",
        "3. df5_3 : Subconjunto de datos que contiene todos lo valores menos los del día **Martes**.\n",
        "\n",
        "4. df5_4 : Subconjunto de datos que contiene todos lo valores menos los días **Martes** ni **Viernes**.\n",
        "\n",
        "5. df5_5 : Subconjunto de datos que contiene todos los valores mayores de 8000 de la variable **afluencia_total**.\n",
        "\n",
        "6. df5_6 : Subconjunto de datos que contiene todos los valores menores de 8000 de la variable **afluencia_total**.\n",
        "\n",
        "7. df5_7 : Subconjunto de datos que contiene todos los valores mayores de 5000  y menores a 8000 de la variable **afluencia_total**.\n",
        "\n",
        "8. df5_8 : Subconjunto de datos que contiene todos los valores de **Ecobici**, de los días **Lunes** y que estan entre 5000 y 10000 de la **afluencia_total**."
      ]
    },
    {
      "cell_type": "markdown",
      "metadata": {
        "id": "m1CjM3ljwFjw",
        "colab_type": "text"
      },
      "source": [
        "## Métodos de Dplython\n",
        "### Método **group_by** y  **summarize**\n",
        "\n",
        "El método **group_by**, sirve para crear un subconjunto de datos a partir de los elementos de una variable.\n",
        "\n",
        "El método **summarize**, sirve para crear una nueva variable a partir de una concatenación con **group_by** \n",
        "\n",
        "Veamos el siguiente ejemplo\n"
      ]
    },
    {
      "cell_type": "code",
      "metadata": {
        "id": "EACwySv-wVMS",
        "colab_type": "code",
        "colab": {}
      },
      "source": [
        " df6 = df1 >> group_by(X.dia_semana) >> summarize(Frecuencia = X.afluencia_total.sum())\n",
        " df6"
      ],
      "execution_count": null,
      "outputs": []
    },
    {
      "cell_type": "markdown",
      "metadata": {
        "id": "N3DBEyMW0Zpm",
        "colab_type": "text"
      },
      "source": [
        "En el bloque anterior creamos un nuevo subconjunto de datos a partir de **df1**.  Con el método de **group_by** le estoy ordenando que arme un subconjunto de datos con la variable **día_semana**. Ahora bien, con el método **summarize** le ordeno que me sume la afluencia total para cada día de la semana, es decir, me va a sumar la afluencia total  de los lunes, martes, ...., domingo. A esta variable la nombre **Frecuencia**.\n",
        "\n",
        "Veamos otro ejemplo."
      ]
    },
    {
      "cell_type": "code",
      "metadata": {
        "id": "BuURCNEy2TrW",
        "colab_type": "code",
        "colab": {}
      },
      "source": [
        "df6_2 = df1 >> group_by(X.dia_semana, X.organismo) >> summarize(Promedio = X.afluencia_total.mean())\n",
        "df6_2"
      ],
      "execution_count": null,
      "outputs": []
    },
    {
      "cell_type": "markdown",
      "metadata": {
        "id": "qD4LjTkj3HjC",
        "colab_type": "text"
      },
      "source": [
        "En el boque anterior se realizo lo siguiente:\n",
        "\n",
        "De la variable **df1** se creo un subconjunto de datos a partir de dos grupos.\n",
        "1. Agrupamos por día de la semana; y\n",
        "2. Agrupamos por organismo.\n",
        "\n",
        "Ahora bien, a cada una de las observaciones agrupadas se les calculo el promedio.\n"
      ]
    },
    {
      "cell_type": "markdown",
      "metadata": {
        "id": "xr2JD5uX38SI",
        "colab_type": "text"
      },
      "source": [
        "## Métodos de Dplython\n",
        "### Método **mutate**\n",
        "\n",
        "El método **mutate** sirve para crear nuevas variables dentro del conjunto de datos. Veamos un ejemplo tomando la variable df6, la cual se creo agrupando los vlaores de **dia_semana** y se les calculo la **Frecuencia**. En este ejemplo calcularemos una estructura porcentual."
      ]
    },
    {
      "cell_type": "code",
      "metadata": {
        "id": "Jak53ZdD4jTX",
        "colab_type": "code",
        "colab": {}
      },
      "source": [
        "df7 = df6 >> mutate(Porcentaje = (X.Frecuencia *100)/X.Frecuencia.sum())\n",
        "df7"
      ],
      "execution_count": null,
      "outputs": []
    },
    {
      "cell_type": "markdown",
      "metadata": {
        "id": "U3Wts8n75X0S",
        "colab_type": "text"
      },
      "source": [
        "## Métodos de Dplython\n",
        "### Método **count**\n",
        "\n",
        "El método **count** sirve para crear frecuencia de datos, es decir, cuenta cuantas veces aparece un dato."
      ]
    },
    {
      "cell_type": "code",
      "metadata": {
        "id": "UMoX8KUS583e",
        "colab_type": "code",
        "colab": {}
      },
      "source": [
        "df8 = df1 >> count(X.organismo)\n",
        "df8"
      ],
      "execution_count": null,
      "outputs": []
    },
    {
      "cell_type": "markdown",
      "metadata": {
        "id": "4wFYIdtL6LmO",
        "colab_type": "text"
      },
      "source": [
        "# Hasta ahora se a explicado de forma muy introductoria el módulo de **Dplython**. Para que quede un poco más claro vamos a hacer un ejemplo. Para ello utilizaremos los casos de COVID 19. \n",
        "\n",
        "1. Cargamos el conjunto de datos **\"casos-asociados-a-covid-19.csv\"** (se encuentra en la carpeta de bases de datos que esta en el drive).\n",
        "\n",
        "2. Cargamos el módulo **matplotlib.pyplot** para poder crear unos gráficos.\n",
        "\n",
        "3. Covertimos el conjunto de datos a un **DplyFrame**. Esto es para poder aplicarle todos los métodos de **Dplython**\n",
        "\n",
        "4. Del conjunto de datos utilizaremos las variables: **ENTIDAD RESIDENCIA** y  **MUNICIPIO RESIENCIA**\n",
        "\n",
        "6. Se va a calcular el número de casos asociado a COVID 19 por Alcaldía de la CDMX.\n",
        "\n",
        "7. Se va a calcular el número de casos asociados a COVID 19 por Alcaldía y Género\n",
        "\n"
      ]
    },
    {
      "cell_type": "code",
      "metadata": {
        "id": "kTlODOOg6qgr",
        "colab_type": "code",
        "colab": {}
      },
      "source": [
        "import matplotlib.pyplot as plt\n",
        "\n",
        "dfcov = pd.read_csv(\"casos-asociados-a-covid-19.csv\")\n",
        "dfcov.head()"
      ],
      "execution_count": null,
      "outputs": []
    },
    {
      "cell_type": "code",
      "metadata": {
        "id": "0aqV7CyX9pJs",
        "colab_type": "code",
        "colab": {}
      },
      "source": [
        "\"\"\" Covertimos dfcov a un DplyFrame\"\"\"\n",
        "dfcov1 = DplyFrame(dfcov)\n",
        "type(dfcov1)"
      ],
      "execution_count": null,
      "outputs": []
    },
    {
      "cell_type": "code",
      "metadata": {
        "id": "QM8cTsju97Ko",
        "colab_type": "code",
        "colab": {}
      },
      "source": [
        "\"\"\"Cambiamos algunos nombres de variables que vamos a utilizar\"\"\"\n",
        "dfcov1 = dfcov1.rename(columns={\"ENTIDAD RESIDENCIA\": \"ent_residencia\", \"MUNICIPIO RESIDENCIA\": \"mun_residencia\"})"
      ],
      "execution_count": null,
      "outputs": []
    },
    {
      "cell_type": "code",
      "metadata": {
        "id": "m71fnlP-_JWr",
        "colab_type": "code",
        "colab": {}
      },
      "source": [
        "dfcov2 = dfcov1 >> sift(X.ent_residencia == \"CIUDAD DE MÉXICO\") >> count(X.mun_residencia) >> mutate(Porcentaje = (X.n * 100)/ X.n.sum()) >> arrange(X.n)   \n",
        "dfcov2.index = dfcov2[\"mun_residencia\"]"
      ],
      "execution_count": null,
      "outputs": []
    },
    {
      "cell_type": "code",
      "metadata": {
        "id": "XG1cIjztC_-h",
        "colab_type": "code",
        "colab": {}
      },
      "source": [
        "dfcov2.n.plot(kind = \"bar\")\n",
        "plt.xlabel(\"Alcaldía\")\n",
        "plt.ylabel(\"Número de casos de COVID 19\")\n",
        "plt.title(\"Números de casos de COVID 19 en la CDMX\")"
      ],
      "execution_count": null,
      "outputs": []
    },
    {
      "cell_type": "code",
      "metadata": {
        "id": "YRaa2UKHDCfk",
        "colab_type": "code",
        "colab": {}
      },
      "source": [
        "dfcov2.Porcentaje.plot(kind = \"bar\")\n",
        "plt.xlabel(\"Alcaldía\")\n",
        "plt.ylabel(\"Número de casos de COVID 19\")\n",
        "plt.title(\"Números de casos de COVID 19 en la CDMX \\n Estructura Porcentual\")"
      ],
      "execution_count": null,
      "outputs": []
    },
    {
      "cell_type": "code",
      "metadata": {
        "id": "53SHsKaYD78K",
        "colab_type": "code",
        "colab": {}
      },
      "source": [
        "dfcov3 = dfcov1 >> sift(X.ent_residencia == \"CIUDAD DE MÉXICO\") >> count(X.SEXO) >> mutate(Porcentaje = (X.n *100)/X.n.sum())\n",
        "dfcov3"
      ],
      "execution_count": null,
      "outputs": []
    },
    {
      "cell_type": "code",
      "metadata": {
        "id": "4HWlDWzmFfzG",
        "colab_type": "code",
        "colab": {}
      },
      "source": [
        "dfcov4 = dfcov1 >> sift(X.ent_residencia == \"CIUDAD DE MÉXICO\")\n",
        "dfcov4_1 = dfcov4 >> group_by(X.mun_residencia, X.SEXO) >> count(X.SEXO) \n",
        "dfcov4_1"
      ],
      "execution_count": null,
      "outputs": []
    },
    {
      "cell_type": "code",
      "metadata": {
        "id": "_UoO2owpHiOq",
        "colab_type": "code",
        "colab": {}
      },
      "source": [
        "dfcov5_M = dfcov4_1 >> sift(X.SEXO == \"MUJER\")  >> mutate(Porcentaje = (X.n * 100)/X.n.sum())\n",
        "dfcov5_H = dfcov4_1 >> sift(X.SEXO == \"HOMBRE\") >> mutate(Porcentaje = (X.n * 100)/X.n.sum())\n",
        "dfcov5_H"
      ],
      "execution_count": null,
      "outputs": []
    }
  ]
}