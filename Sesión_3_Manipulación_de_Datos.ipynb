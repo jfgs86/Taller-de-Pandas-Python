{
  "nbformat": 4,
  "nbformat_minor": 0,
  "metadata": {
    "colab": {
      "name": "Sesión 3 Manipulación de Datos.ipynb",
      "provenance": [],
      "collapsed_sections": [],
      "authorship_tag": "ABX9TyPJ+bj5hJLdTeLmamm6SYA3",
      "include_colab_link": true
    },
    "kernelspec": {
      "name": "python3",
      "display_name": "Python 3"
    }
  },
  "cells": [
    {
      "cell_type": "markdown",
      "metadata": {
        "id": "view-in-github",
        "colab_type": "text"
      },
      "source": [
        "<a href=\"https://colab.research.google.com/github/jfgs86/Taller-de-Pandas-Python/blob/master/Sesi%C3%B3n_3_Manipulaci%C3%B3n_de_Datos.ipynb\" target=\"_parent\"><img src=\"https://colab.research.google.com/assets/colab-badge.svg\" alt=\"Open In Colab\"/></a>"
      ]
    },
    {
      "cell_type": "markdown",
      "metadata": {
        "id": "YHeFONQUK8b3",
        "colab_type": "text"
      },
      "source": [
        "# **GRUPO TLACUEPALLI**\n",
        "# *Grupo de Estudio en Sistemas Complejos, Simulación Computacional y Dinámica Social  de la Maestría en Ciencias de la Complejidad UACM*\n",
        "\n",
        "# **TALLER DE PANDAS PYTHON**\n",
        "## Imparte Lic. Juan Francisco Gracia Sercado. Estudiante de la Maestría de Ciencias de la Complejidad. UACM\n",
        "<img src=https://aprendeconalf.es/python/manual/img/pandas-logo.png width=\"800\">\n",
        "\n",
        "\n",
        "# **SESIÓN 3: Manipulación de Datos con PANDAS** \n",
        "\n",
        "![](https://static.javatpoint.com/tutorial/pandas/images/python-pandas.png)\n"
      ]
    },
    {
      "cell_type": "markdown",
      "metadata": {
        "id": "-495bUNPM-fD",
        "colab_type": "text"
      },
      "source": [
        ""
      ]
    },
    {
      "cell_type": "code",
      "metadata": {
        "id": "AasMvaMdUmSi",
        "colab_type": "code",
        "colab": {}
      },
      "source": [
        "import pandas as pd\n",
        "\n"
      ],
      "execution_count": null,
      "outputs": []
    },
    {
      "cell_type": "code",
      "metadata": {
        "id": "W0bPJtlWU68O",
        "colab_type": "code",
        "colab": {}
      },
      "source": [
        "df = pd.read_csv(\"incidentes-viales-c5_2.csv\")\n",
        "print(\"TAMALO DEL CONJUNTO DE DATOS:\", df.shape)\n",
        "df.head()\n",
        "\n"
      ],
      "execution_count": null,
      "outputs": []
    },
    {
      "cell_type": "markdown",
      "metadata": {
        "id": "CGYmMjcIB9xh",
        "colab_type": "text"
      },
      "source": [
        "## SELECCIÓN DE COLUMNAS \n",
        "\n",
        "Recordemos que  las filas y columnas se organizan como **[FILAS, COLUMNAS]**\n",
        "\n",
        "  |Método de Selección  | Descripción                                         |\n",
        "  |---------------------|-----------------------------------------------------|\n",
        "  |.loc                 | Selecciona por **Etiqueta** (nombre de la columna)  | \n",
        "  |.iloc                | Selecciona por **Posición** (posición de la columna)| "
      ]
    },
    {
      "cell_type": "code",
      "metadata": {
        "id": "65-knS1mGpUv",
        "colab_type": "code",
        "colab": {}
      },
      "source": [
        "\"\"\"Selección de Columnas\"\"\"\n",
        "\n",
        "df1_1 = df.loc[:,[\"fecha_cierre\", \"hora_cierre\", \"delegacion_inicio\", \"incidente_c4\"]]  ## -----> Selecciona por Etiqueta\n",
        "#df1_2 = df.iloc[:,[5,8,9,10]] ## -----> Selecciona por Posición"
      ],
      "execution_count": null,
      "outputs": []
    },
    {
      "cell_type": "markdown",
      "metadata": {
        "id": "FC8HEZVLRSI3",
        "colab_type": "text"
      },
      "source": [
        "#SELECCIÓN DE FILAS\n",
        "\n",
        "Para seleccionar se puede usar tanto **.loc** como **.iloc**. La diferencia con seleccionar columnas es que se indica que filas o rango de filas se quiere seleccionar."
      ]
    },
    {
      "cell_type": "code",
      "metadata": {
        "id": "B-XlQVTqRqPo",
        "colab_type": "code",
        "colab": {}
      },
      "source": [
        "df1_3 = df1_1.loc[0:10,:] ##-----> Indicamos que se van a seleccionar las filas 0 a 10 y todas las columnas\n",
        "df1_4 = df1_1.iloc[0:10, 2:4] ##-----> Indicamos que se van a seleccionar las filas 0 a 10 y las columnas de la 2 a la 4\n"
      ],
      "execution_count": null,
      "outputs": []
    },
    {
      "cell_type": "markdown",
      "metadata": {
        "id": "fHSYExD_WC_p",
        "colab_type": "text"
      },
      "source": [
        "## NOTA 1\n",
        "\n",
        "Para la selección de **FILAS** y **COLUMNAS** ver la notas de la **SESIÓN 1**"
      ]
    },
    {
      "cell_type": "markdown",
      "metadata": {
        "id": "GYZPUJc4Wz1H",
        "colab_type": "text"
      },
      "source": [
        "# SELECCIÓN DE UNA MUESTRA ALEATORIA\n",
        "\n",
        "Una selección aleatoria de filas o columnas de un Marco de datos con el método **sample()**. El método muestreará filas de forma predeterminada y acepta un número específico de filas / columnas para devolver, o una fracción de filas."
      ]
    },
    {
      "cell_type": "code",
      "metadata": {
        "id": "EIpZbsoBuot6",
        "colab_type": "code",
        "colab": {}
      },
      "source": [
        "df2_1 = df.sample(n = 10000)\n",
        "df2_2 = df.sample(frac = 0.35)\n"
      ],
      "execution_count": null,
      "outputs": []
    },
    {
      "cell_type": "markdown",
      "metadata": {
        "id": "32oAamRN4KeW",
        "colab_type": "text"
      },
      "source": [
        "# Filtrar por Observaciones.\n",
        "\n",
        "Cuando  se necesita filtrar por un valor, rango de valores o categorias, se puede aplicar la siguiente instrucción:\n",
        "\n",
        "**nombre_de_la_variable = conjunto_de_datos[ conjunto_de_datos[\"nombre_variable\"] *_operador_* valor_rango_categoria]**\n",
        "\n",
        "Los operadores pueden ser:\n",
        "\n",
        "|       |                     |\n",
        "|-------|---------------------|\n",
        "| >, >= | mayor, mayor o igual|\n",
        "| <, <= | menor, menor o igual|\n",
        "| ==, !=| igual, diferente    |\n",
        "| &, or | y, o                |   \n",
        "\n",
        "En el siguiente ejemplo hemos creado un nuevo subconjunto de datos llamado **df3**, el cual es una tabla de frecuencias de la variable delegacion_inicio del conjunto de datos df.\n"
      ]
    },
    {
      "cell_type": "code",
      "metadata": {
        "id": "DQhvO3NvC4EV",
        "colab_type": "code",
        "colab": {}
      },
      "source": [
        "df3 = pd.DataFrame(df.delegacion_inicio.value_counts()) ## TABLA DE FRECUENCIAS\n",
        "df3 = df3.rename(columns = {\"delegacion_inicio\":\"frecuencia\"}) ### CAMBIAMOS EL NOMBRE DE LA VARIABLE delegacion_inicio POR frecuencia\n",
        "df3"
      ],
      "execution_count": null,
      "outputs": []
    },
    {
      "cell_type": "code",
      "metadata": {
        "id": "fiXrVLEfE52t",
        "colab_type": "code",
        "colab": {}
      },
      "source": [
        "df3_1 = df3[ df3[\"frecuencia\"] > 100000]   ## VALORES MAYORES A 100000\n",
        "df3_2 = df3[ (df3[\"frecuencia\"] > 50000) & (df3[\"frecuencia\"] <= 100000)] ## VALORES MAYORES A 50000 Y MENORES O IGUALES A 100000\n",
        "df3_3 = df3[df3[\"frecuencia\"] != 90571] ## VALOR DIFERENTE A 90571\n",
        "df3_3\n",
        "\n",
        "df4 = df[ (df['dia_semana'] == \"Lunes\") | (df['dia_semana'] == \"Jueves\")] ### QUE TOME LOS DIAS DE LA SEMANA: LUNES O VIERNES, ESTE CASO TOMARA LOS DOS DIAS.\n",
        "df4_1 = df4.dia_semana.value_counts() ## TABLA DE FRECUENCIAS \n"
      ],
      "execution_count": null,
      "outputs": []
    },
    {
      "cell_type": "markdown",
      "metadata": {
        "id": "hB4iSzxvcPE6",
        "colab_type": "text"
      },
      "source": [
        "## FILTRAR POR UN PATRON ESPECÍFICO\n",
        "\n",
        "Supongamos que necesitamos filtrar valores de una variable por una palabra o patron específico. Para ello ultilizamos método **srt.contains(\"patron\")**.\n",
        "\n",
        "En ejemplo siguiente, filtramos por el patron **\"sin\"**, que se encuentra en la variable **codigo_cierre** del conjunto de datos **df**. \n",
        "\n",
        "**NOTA 1**: ESTE MÉTODO NOS VA DEVOLVER UNA SERIE CON VALORES BOOLEANOS, ES DECIR, NOS INDICA SI EN TAL POSICIÓN SE ENCUENTRA (TRUE) O NO SE ENCUENTRA (FALSE) EL PATRON BUSCADO.\n",
        "\n",
        "|index|valor |\n",
        "|-----|------|\n",
        "|  0  | True |\n",
        "|  1  | False|\n",
        "|  2  | True |\n",
        "\n",
        "**NOTA 2**: Para sacar los valores que se buscaron por un patron podemos aplicar el ejemplo **df5_2**\n",
        "\n",
        "\n",
        "\n",
        "\n"
      ]
    },
    {
      "cell_type": "code",
      "metadata": {
        "id": "aQT7IAbcDyMl",
        "colab_type": "code",
        "colab": {}
      },
      "source": [
        "\n",
        "df5_sin = df.incidente_c4.str.contains(\"sin\")    ## expresiones regulares \n",
        "df5_reportado = df.codigo_cierre.str.contains(\"reportado\") ### filtramos por el patron 'reportado' \n",
        "\n",
        "#df5_sin\n",
        "\n",
        "#df5_opcion = df[ df[\"incidente_c4\"] == \"lesionado-atropellado\"]\n",
        "#df5_opcion\n",
        "\n",
        "df5_2 = df[df4_sin & df4_reportado] ### SACAMOS LOS LO VALORES \n",
        "df5_2.incidente_c4.value_counts()"
      ],
      "execution_count": null,
      "outputs": []
    },
    {
      "cell_type": "markdown",
      "metadata": {
        "id": "GGywOnhueLVq",
        "colab_type": "text"
      },
      "source": [
        "## AGRUPAR POR UNA VARIABLE O VARIABLES\n",
        "\n",
        "Utilizar el método **gropby** significa que pandas  va tomar la variable que se eligio para aplicarle tal método y la va a convertir en un **ínidce**, es decir, esa variable se convertira en nuestro marco de observaciones.\n",
        "\n",
        "Por ejemplo, la variable mes_cierre tiene como índice la varible 'mes_cierre'. "
      ]
    },
    {
      "cell_type": "code",
      "metadata": {
        "id": "Vie9qKdk5IEF",
        "colab_type": "code",
        "colab": {}
      },
      "source": [
        "df.groupby(\"dia_semana\").groups"
      ],
      "execution_count": null,
      "outputs": []
    },
    {
      "cell_type": "code",
      "metadata": {
        "id": "jyRmvV-Kcf_8",
        "colab_type": "code",
        "colab": {}
      },
      "source": [
        "mes_cierre = df.groupby([\"mes_cierre\"]).folio.count()\n",
        "mes_cierre \n"
      ],
      "execution_count": null,
      "outputs": []
    },
    {
      "cell_type": "markdown",
      "metadata": {
        "id": "XT2X1E45hkkz",
        "colab_type": "text"
      },
      "source": [
        "## CREACIÓN DE NUEVAS VARIABLES\n",
        "\n",
        "Para crear nuevas variables podemos aplicar dos formas:\n",
        " 1. Por creación directa. Ver ejemplo **df[\"Porcentaje]**\n",
        " 2. Por el método **assing**. Ver ejemplo **mes_cierre**\n",
        "\n",
        "Veamos los siguientes ejemplos.\n",
        "\n",
        "La variable **df5** es una tabla de frecuencias que tiene como índice el día de la semana (se aplicó el método **groupby** al conjunto de datos **df** y se indicó que se agrupara por la variable **dia_semana**). Debemos notar que aparece el método **reset_index()** el cual saca los valores del índice y los injerta como una variable en el conjunto de datos y pone un índice numérico.\n",
        "\n",
        "A la variable **df5** se le cambio el nombre a la variable folio por frecuencia.\n",
        "\n",
        "Le indicamos que genere una nueva variable llamada **'Porcentaje'** la cual se calcula como muestra **df5[\"Porcentaje\"]**\n",
        "\n",
        "En la variable mes_cierre estamos aplicando el método **assign** \n"
      ]
    },
    {
      "cell_type": "code",
      "metadata": {
        "id": "g8ccBFRi0MQv",
        "colab_type": "code",
        "colab": {}
      },
      "source": [
        "df5 = df.groupby([\"dia_semana\"]).folio.count().reset_index()\n",
        "df5 = df5.rename(columns={\"folio\":\"frecuencia\"})\n",
        "df5[\"Porcentaje\"] = (df5.frecuencia * 100)/df5.frecuencia.sum()\n",
        "df5"
      ],
      "execution_count": null,
      "outputs": []
    },
    {
      "cell_type": "code",
      "metadata": {
        "id": "JY7y7KDrtvUo",
        "colab_type": "code",
        "colab": {}
      },
      "source": [
        "mes_cierre = mes_cierre.assign(Porcentaje = año_cierre[\"folio\"] * 100/ año_cierre[\"folio\"].sum()).round(2)\n",
        "mes_cierre\n"
      ],
      "execution_count": null,
      "outputs": []
    },
    {
      "cell_type": "markdown",
      "metadata": {
        "id": "QwEtm8CRRzUD",
        "colab_type": "text"
      },
      "source": [
        "# Estadísticas Demográficas y Económicas de 142 Países.\n",
        "## Período 1952-2007 "
      ]
    },
    {
      "cell_type": "code",
      "metadata": {
        "id": "vmBXsBTw1Ubt",
        "colab_type": "code",
        "colab": {
          "base_uri": "https://localhost:8080/",
          "height": 406
        },
        "outputId": "78ea7e4f-5378-4dbb-ce21-42aa8c2ba5ba"
      },
      "source": [
        "df_estd = pd.read_csv(\"estadisticas_paises.csv\")\n",
        "df_estd\n"
      ],
      "execution_count": null,
      "outputs": [
        {
          "output_type": "execute_result",
          "data": {
            "text/html": [
              "<div>\n",
              "<style scoped>\n",
              "    .dataframe tbody tr th:only-of-type {\n",
              "        vertical-align: middle;\n",
              "    }\n",
              "\n",
              "    .dataframe tbody tr th {\n",
              "        vertical-align: top;\n",
              "    }\n",
              "\n",
              "    .dataframe thead th {\n",
              "        text-align: right;\n",
              "    }\n",
              "</style>\n",
              "<table border=\"1\" class=\"dataframe\">\n",
              "  <thead>\n",
              "    <tr style=\"text-align: right;\">\n",
              "      <th></th>\n",
              "      <th>País</th>\n",
              "      <th>Año</th>\n",
              "      <th>Población</th>\n",
              "      <th>Continente</th>\n",
              "      <th>Expectativa_vida</th>\n",
              "      <th>PIBpercapita</th>\n",
              "    </tr>\n",
              "  </thead>\n",
              "  <tbody>\n",
              "    <tr>\n",
              "      <th>0</th>\n",
              "      <td>Afghanistan</td>\n",
              "      <td>1952</td>\n",
              "      <td>8425333.0</td>\n",
              "      <td>Asia</td>\n",
              "      <td>28.801</td>\n",
              "      <td>779.445314</td>\n",
              "    </tr>\n",
              "    <tr>\n",
              "      <th>1</th>\n",
              "      <td>Afghanistan</td>\n",
              "      <td>1957</td>\n",
              "      <td>9240934.0</td>\n",
              "      <td>Asia</td>\n",
              "      <td>30.332</td>\n",
              "      <td>820.853030</td>\n",
              "    </tr>\n",
              "    <tr>\n",
              "      <th>2</th>\n",
              "      <td>Afghanistan</td>\n",
              "      <td>1962</td>\n",
              "      <td>10267083.0</td>\n",
              "      <td>Asia</td>\n",
              "      <td>31.997</td>\n",
              "      <td>853.100710</td>\n",
              "    </tr>\n",
              "    <tr>\n",
              "      <th>3</th>\n",
              "      <td>Afghanistan</td>\n",
              "      <td>1967</td>\n",
              "      <td>11537966.0</td>\n",
              "      <td>Asia</td>\n",
              "      <td>34.020</td>\n",
              "      <td>836.197138</td>\n",
              "    </tr>\n",
              "    <tr>\n",
              "      <th>4</th>\n",
              "      <td>Afghanistan</td>\n",
              "      <td>1972</td>\n",
              "      <td>13079460.0</td>\n",
              "      <td>Asia</td>\n",
              "      <td>36.088</td>\n",
              "      <td>739.981106</td>\n",
              "    </tr>\n",
              "    <tr>\n",
              "      <th>...</th>\n",
              "      <td>...</td>\n",
              "      <td>...</td>\n",
              "      <td>...</td>\n",
              "      <td>...</td>\n",
              "      <td>...</td>\n",
              "      <td>...</td>\n",
              "    </tr>\n",
              "    <tr>\n",
              "      <th>1699</th>\n",
              "      <td>Zimbabwe</td>\n",
              "      <td>1987</td>\n",
              "      <td>9216418.0</td>\n",
              "      <td>Africa</td>\n",
              "      <td>62.351</td>\n",
              "      <td>706.157306</td>\n",
              "    </tr>\n",
              "    <tr>\n",
              "      <th>1700</th>\n",
              "      <td>Zimbabwe</td>\n",
              "      <td>1992</td>\n",
              "      <td>10704340.0</td>\n",
              "      <td>Africa</td>\n",
              "      <td>60.377</td>\n",
              "      <td>693.420786</td>\n",
              "    </tr>\n",
              "    <tr>\n",
              "      <th>1701</th>\n",
              "      <td>Zimbabwe</td>\n",
              "      <td>1997</td>\n",
              "      <td>11404948.0</td>\n",
              "      <td>Africa</td>\n",
              "      <td>46.809</td>\n",
              "      <td>792.449960</td>\n",
              "    </tr>\n",
              "    <tr>\n",
              "      <th>1702</th>\n",
              "      <td>Zimbabwe</td>\n",
              "      <td>2002</td>\n",
              "      <td>11926563.0</td>\n",
              "      <td>Africa</td>\n",
              "      <td>39.989</td>\n",
              "      <td>672.038623</td>\n",
              "    </tr>\n",
              "    <tr>\n",
              "      <th>1703</th>\n",
              "      <td>Zimbabwe</td>\n",
              "      <td>2007</td>\n",
              "      <td>12311143.0</td>\n",
              "      <td>Africa</td>\n",
              "      <td>43.487</td>\n",
              "      <td>469.709298</td>\n",
              "    </tr>\n",
              "  </tbody>\n",
              "</table>\n",
              "<p>1704 rows × 6 columns</p>\n",
              "</div>"
            ],
            "text/plain": [
              "             País   Año   Población Continente  Expectativa_vida  PIBpercapita\n",
              "0     Afghanistan  1952   8425333.0       Asia            28.801    779.445314\n",
              "1     Afghanistan  1957   9240934.0       Asia            30.332    820.853030\n",
              "2     Afghanistan  1962  10267083.0       Asia            31.997    853.100710\n",
              "3     Afghanistan  1967  11537966.0       Asia            34.020    836.197138\n",
              "4     Afghanistan  1972  13079460.0       Asia            36.088    739.981106\n",
              "...           ...   ...         ...        ...               ...           ...\n",
              "1699     Zimbabwe  1987   9216418.0     Africa            62.351    706.157306\n",
              "1700     Zimbabwe  1992  10704340.0     Africa            60.377    693.420786\n",
              "1701     Zimbabwe  1997  11404948.0     Africa            46.809    792.449960\n",
              "1702     Zimbabwe  2002  11926563.0     Africa            39.989    672.038623\n",
              "1703     Zimbabwe  2007  12311143.0     Africa            43.487    469.709298\n",
              "\n",
              "[1704 rows x 6 columns]"
            ]
          },
          "metadata": {
            "tags": []
          },
          "execution_count": 11
        }
      ]
    },
    {
      "cell_type": "markdown",
      "metadata": {
        "id": "7RmKOUnxnRjg",
        "colab_type": "text"
      },
      "source": [
        "## MÉTODO PIVOT_TABLE\n",
        "\n",
        "El método **pivot_table** sirve para remodelar conjuntos de datos.\n",
        "\n",
        "En el ejemplo siguiente la instrucción es:\n",
        "\n",
        "Del conjunto de datos **df_estd** quiero que me pongas como **índice** la variable país, que la variable año la pongas como **columna** y que cada celda tenga el valor (**values**) de la variable Expectativa_vida."
      ]
    },
    {
      "cell_type": "code",
      "metadata": {
        "id": "qiDF-tDbK51L",
        "colab_type": "code",
        "colab": {
          "base_uri": "https://localhost:8080/",
          "height": 436
        },
        "outputId": "3f11b179-4964-402f-8fba-0c17927753c5"
      },
      "source": [
        "df_pais = pd.pivot_table(df_estd, index=[\"País\"], columns= \"Año\", values= \"Expectativa_vida\")\n",
        "df_pais_media = df_estd.groupby(\"País\").PIBpercapita.mean()\n",
        "#type(df_pais)\n",
        "df_pais = pd.concat([df_pais, df_pais_media], axis=1).round(2)\n",
        "df_pais = df_pais.rename(columns={\"PIBpercapita\":\"Promedio\"})\n",
        "df_pais\n",
        "\n"
      ],
      "execution_count": null,
      "outputs": [
        {
          "output_type": "execute_result",
          "data": {
            "text/html": [
              "<div>\n",
              "<style scoped>\n",
              "    .dataframe tbody tr th:only-of-type {\n",
              "        vertical-align: middle;\n",
              "    }\n",
              "\n",
              "    .dataframe tbody tr th {\n",
              "        vertical-align: top;\n",
              "    }\n",
              "\n",
              "    .dataframe thead th {\n",
              "        text-align: right;\n",
              "    }\n",
              "</style>\n",
              "<table border=\"1\" class=\"dataframe\">\n",
              "  <thead>\n",
              "    <tr style=\"text-align: right;\">\n",
              "      <th></th>\n",
              "      <th>1952</th>\n",
              "      <th>1957</th>\n",
              "      <th>1962</th>\n",
              "      <th>1967</th>\n",
              "      <th>1972</th>\n",
              "      <th>1977</th>\n",
              "      <th>1982</th>\n",
              "      <th>1987</th>\n",
              "      <th>1992</th>\n",
              "      <th>1997</th>\n",
              "      <th>2002</th>\n",
              "      <th>2007</th>\n",
              "      <th>Promedio</th>\n",
              "    </tr>\n",
              "    <tr>\n",
              "      <th>País</th>\n",
              "      <th></th>\n",
              "      <th></th>\n",
              "      <th></th>\n",
              "      <th></th>\n",
              "      <th></th>\n",
              "      <th></th>\n",
              "      <th></th>\n",
              "      <th></th>\n",
              "      <th></th>\n",
              "      <th></th>\n",
              "      <th></th>\n",
              "      <th></th>\n",
              "      <th></th>\n",
              "    </tr>\n",
              "  </thead>\n",
              "  <tbody>\n",
              "    <tr>\n",
              "      <th>Afghanistan</th>\n",
              "      <td>28.80</td>\n",
              "      <td>30.33</td>\n",
              "      <td>32.00</td>\n",
              "      <td>34.02</td>\n",
              "      <td>36.09</td>\n",
              "      <td>38.44</td>\n",
              "      <td>39.85</td>\n",
              "      <td>40.82</td>\n",
              "      <td>41.67</td>\n",
              "      <td>41.76</td>\n",
              "      <td>42.13</td>\n",
              "      <td>43.83</td>\n",
              "      <td>802.67</td>\n",
              "    </tr>\n",
              "    <tr>\n",
              "      <th>Albania</th>\n",
              "      <td>55.23</td>\n",
              "      <td>59.28</td>\n",
              "      <td>64.82</td>\n",
              "      <td>66.22</td>\n",
              "      <td>67.69</td>\n",
              "      <td>68.93</td>\n",
              "      <td>70.42</td>\n",
              "      <td>72.00</td>\n",
              "      <td>71.58</td>\n",
              "      <td>72.95</td>\n",
              "      <td>75.65</td>\n",
              "      <td>76.42</td>\n",
              "      <td>3255.37</td>\n",
              "    </tr>\n",
              "    <tr>\n",
              "      <th>Algeria</th>\n",
              "      <td>43.08</td>\n",
              "      <td>45.68</td>\n",
              "      <td>48.30</td>\n",
              "      <td>51.41</td>\n",
              "      <td>54.52</td>\n",
              "      <td>58.01</td>\n",
              "      <td>61.37</td>\n",
              "      <td>65.80</td>\n",
              "      <td>67.74</td>\n",
              "      <td>69.15</td>\n",
              "      <td>70.99</td>\n",
              "      <td>72.30</td>\n",
              "      <td>4426.03</td>\n",
              "    </tr>\n",
              "    <tr>\n",
              "      <th>Angola</th>\n",
              "      <td>30.02</td>\n",
              "      <td>32.00</td>\n",
              "      <td>34.00</td>\n",
              "      <td>35.98</td>\n",
              "      <td>37.93</td>\n",
              "      <td>39.48</td>\n",
              "      <td>39.94</td>\n",
              "      <td>39.91</td>\n",
              "      <td>40.65</td>\n",
              "      <td>40.96</td>\n",
              "      <td>41.00</td>\n",
              "      <td>42.73</td>\n",
              "      <td>3607.10</td>\n",
              "    </tr>\n",
              "    <tr>\n",
              "      <th>Argentina</th>\n",
              "      <td>62.48</td>\n",
              "      <td>64.40</td>\n",
              "      <td>65.14</td>\n",
              "      <td>65.63</td>\n",
              "      <td>67.06</td>\n",
              "      <td>68.48</td>\n",
              "      <td>69.94</td>\n",
              "      <td>70.77</td>\n",
              "      <td>71.87</td>\n",
              "      <td>73.28</td>\n",
              "      <td>74.34</td>\n",
              "      <td>75.32</td>\n",
              "      <td>8955.55</td>\n",
              "    </tr>\n",
              "    <tr>\n",
              "      <th>...</th>\n",
              "      <td>...</td>\n",
              "      <td>...</td>\n",
              "      <td>...</td>\n",
              "      <td>...</td>\n",
              "      <td>...</td>\n",
              "      <td>...</td>\n",
              "      <td>...</td>\n",
              "      <td>...</td>\n",
              "      <td>...</td>\n",
              "      <td>...</td>\n",
              "      <td>...</td>\n",
              "      <td>...</td>\n",
              "      <td>...</td>\n",
              "    </tr>\n",
              "    <tr>\n",
              "      <th>Vietnam</th>\n",
              "      <td>40.41</td>\n",
              "      <td>42.89</td>\n",
              "      <td>45.36</td>\n",
              "      <td>47.84</td>\n",
              "      <td>50.25</td>\n",
              "      <td>55.76</td>\n",
              "      <td>58.82</td>\n",
              "      <td>62.82</td>\n",
              "      <td>67.66</td>\n",
              "      <td>70.67</td>\n",
              "      <td>73.02</td>\n",
              "      <td>74.25</td>\n",
              "      <td>1017.71</td>\n",
              "    </tr>\n",
              "    <tr>\n",
              "      <th>West Bank and Gaza</th>\n",
              "      <td>43.16</td>\n",
              "      <td>45.67</td>\n",
              "      <td>48.13</td>\n",
              "      <td>51.63</td>\n",
              "      <td>56.53</td>\n",
              "      <td>60.76</td>\n",
              "      <td>64.41</td>\n",
              "      <td>67.05</td>\n",
              "      <td>69.72</td>\n",
              "      <td>71.10</td>\n",
              "      <td>72.37</td>\n",
              "      <td>73.42</td>\n",
              "      <td>3760.00</td>\n",
              "    </tr>\n",
              "    <tr>\n",
              "      <th>Yemen Rep.</th>\n",
              "      <td>32.55</td>\n",
              "      <td>33.97</td>\n",
              "      <td>35.18</td>\n",
              "      <td>36.98</td>\n",
              "      <td>39.85</td>\n",
              "      <td>44.18</td>\n",
              "      <td>49.11</td>\n",
              "      <td>52.92</td>\n",
              "      <td>55.60</td>\n",
              "      <td>58.02</td>\n",
              "      <td>60.31</td>\n",
              "      <td>62.70</td>\n",
              "      <td>1569.27</td>\n",
              "    </tr>\n",
              "    <tr>\n",
              "      <th>Zambia</th>\n",
              "      <td>42.04</td>\n",
              "      <td>44.08</td>\n",
              "      <td>46.02</td>\n",
              "      <td>47.77</td>\n",
              "      <td>50.11</td>\n",
              "      <td>51.39</td>\n",
              "      <td>51.82</td>\n",
              "      <td>50.82</td>\n",
              "      <td>46.10</td>\n",
              "      <td>40.24</td>\n",
              "      <td>39.19</td>\n",
              "      <td>42.38</td>\n",
              "      <td>1358.20</td>\n",
              "    </tr>\n",
              "    <tr>\n",
              "      <th>Zimbabwe</th>\n",
              "      <td>48.45</td>\n",
              "      <td>50.47</td>\n",
              "      <td>52.36</td>\n",
              "      <td>54.00</td>\n",
              "      <td>55.64</td>\n",
              "      <td>57.67</td>\n",
              "      <td>60.36</td>\n",
              "      <td>62.35</td>\n",
              "      <td>60.38</td>\n",
              "      <td>46.81</td>\n",
              "      <td>39.99</td>\n",
              "      <td>43.49</td>\n",
              "      <td>635.86</td>\n",
              "    </tr>\n",
              "  </tbody>\n",
              "</table>\n",
              "<p>142 rows × 13 columns</p>\n",
              "</div>"
            ],
            "text/plain": [
              "                     1952   1957   1962   1967  ...   1997   2002   2007  Promedio\n",
              "País                                            ...                               \n",
              "Afghanistan         28.80  30.33  32.00  34.02  ...  41.76  42.13  43.83    802.67\n",
              "Albania             55.23  59.28  64.82  66.22  ...  72.95  75.65  76.42   3255.37\n",
              "Algeria             43.08  45.68  48.30  51.41  ...  69.15  70.99  72.30   4426.03\n",
              "Angola              30.02  32.00  34.00  35.98  ...  40.96  41.00  42.73   3607.10\n",
              "Argentina           62.48  64.40  65.14  65.63  ...  73.28  74.34  75.32   8955.55\n",
              "...                   ...    ...    ...    ...  ...    ...    ...    ...       ...\n",
              "Vietnam             40.41  42.89  45.36  47.84  ...  70.67  73.02  74.25   1017.71\n",
              "West Bank and Gaza  43.16  45.67  48.13  51.63  ...  71.10  72.37  73.42   3760.00\n",
              "Yemen Rep.          32.55  33.97  35.18  36.98  ...  58.02  60.31  62.70   1569.27\n",
              "Zambia              42.04  44.08  46.02  47.77  ...  40.24  39.19  42.38   1358.20\n",
              "Zimbabwe            48.45  50.47  52.36  54.00  ...  46.81  39.99  43.49    635.86\n",
              "\n",
              "[142 rows x 13 columns]"
            ]
          },
          "metadata": {
            "tags": []
          },
          "execution_count": 55
        }
      ]
    },
    {
      "cell_type": "code",
      "metadata": {
        "id": "Pbl2B2lPN2nS",
        "colab_type": "code",
        "colab": {}
      },
      "source": [
        "df_PIB =  df_estd.assign(PIB = df_estd[\"Población\"] * df_estd[\"PIBpercapita\"] )\n",
        "df_PIB"
      ],
      "execution_count": null,
      "outputs": []
    },
    {
      "cell_type": "code",
      "metadata": {
        "id": "6eT9PQmNRsAV",
        "colab_type": "code",
        "colab": {
          "base_uri": "https://localhost:8080/",
          "height": 406
        },
        "outputId": "092003b5-0ac1-4159-e016-1a972060996e"
      },
      "source": [
        "df_media = df_PIB.groupby(\"País\").agg({\"PIBpercapita\":\"mean\"}).round(2).sort_values(by = [\"PIBpercapita\"], ascending = False).reset_index()\n",
        "df_media\n",
        "#df_media.PIBpercapita.hist(bins=10)"
      ],
      "execution_count": null,
      "outputs": [
        {
          "output_type": "execute_result",
          "data": {
            "text/html": [
              "<div>\n",
              "<style scoped>\n",
              "    .dataframe tbody tr th:only-of-type {\n",
              "        vertical-align: middle;\n",
              "    }\n",
              "\n",
              "    .dataframe tbody tr th {\n",
              "        vertical-align: top;\n",
              "    }\n",
              "\n",
              "    .dataframe thead th {\n",
              "        text-align: right;\n",
              "    }\n",
              "</style>\n",
              "<table border=\"1\" class=\"dataframe\">\n",
              "  <thead>\n",
              "    <tr style=\"text-align: right;\">\n",
              "      <th></th>\n",
              "      <th>País</th>\n",
              "      <th>PIBpercapita</th>\n",
              "    </tr>\n",
              "  </thead>\n",
              "  <tbody>\n",
              "    <tr>\n",
              "      <th>0</th>\n",
              "      <td>Kuwait</td>\n",
              "      <td>65332.91</td>\n",
              "    </tr>\n",
              "    <tr>\n",
              "      <th>1</th>\n",
              "      <td>Switzerland</td>\n",
              "      <td>27074.33</td>\n",
              "    </tr>\n",
              "    <tr>\n",
              "      <th>2</th>\n",
              "      <td>Norway</td>\n",
              "      <td>26747.31</td>\n",
              "    </tr>\n",
              "    <tr>\n",
              "      <th>3</th>\n",
              "      <td>United States</td>\n",
              "      <td>26261.15</td>\n",
              "    </tr>\n",
              "    <tr>\n",
              "      <th>4</th>\n",
              "      <td>Canada</td>\n",
              "      <td>22410.75</td>\n",
              "    </tr>\n",
              "    <tr>\n",
              "      <th>...</th>\n",
              "      <td>...</td>\n",
              "      <td>...</td>\n",
              "    </tr>\n",
              "    <tr>\n",
              "      <th>137</th>\n",
              "      <td>Mozambique</td>\n",
              "      <td>542.28</td>\n",
              "    </tr>\n",
              "    <tr>\n",
              "      <th>138</th>\n",
              "      <td>Eritrea</td>\n",
              "      <td>541.00</td>\n",
              "    </tr>\n",
              "    <tr>\n",
              "      <th>139</th>\n",
              "      <td>Ethiopia</td>\n",
              "      <td>509.12</td>\n",
              "    </tr>\n",
              "    <tr>\n",
              "      <th>140</th>\n",
              "      <td>Burundi</td>\n",
              "      <td>471.66</td>\n",
              "    </tr>\n",
              "    <tr>\n",
              "      <th>141</th>\n",
              "      <td>Myanmar</td>\n",
              "      <td>439.33</td>\n",
              "    </tr>\n",
              "  </tbody>\n",
              "</table>\n",
              "<p>142 rows × 2 columns</p>\n",
              "</div>"
            ],
            "text/plain": [
              "              País  PIBpercapita\n",
              "0           Kuwait      65332.91\n",
              "1      Switzerland      27074.33\n",
              "2           Norway      26747.31\n",
              "3    United States      26261.15\n",
              "4           Canada      22410.75\n",
              "..             ...           ...\n",
              "137     Mozambique        542.28\n",
              "138        Eritrea        541.00\n",
              "139       Ethiopia        509.12\n",
              "140        Burundi        471.66\n",
              "141        Myanmar        439.33\n",
              "\n",
              "[142 rows x 2 columns]"
            ]
          },
          "metadata": {
            "tags": []
          },
          "execution_count": 61
        }
      ]
    }
  ]
}